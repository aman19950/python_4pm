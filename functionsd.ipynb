{
 "cells": [
  {
   "cell_type": "markdown",
   "id": "a51e1e37",
   "metadata": {},
   "source": [
    "## Functions\n",
    "- it is a piece of code of block"
   ]
  },
  {
   "cell_type": "code",
   "execution_count": null,
   "id": "37897905",
   "metadata": {},
   "outputs": [],
   "source": [
    "def xyz():    #defination/define\n",
    "    print(\"hello\")\n",
    "\n",
    "\n",
    "xyz()    #calling\n",
    "xyz()    #calling\n",
    "xyz()"
   ]
  },
  {
   "cell_type": "code",
   "execution_count": null,
   "id": "b00b475f",
   "metadata": {},
   "outputs": [],
   "source": [
    "## positional argument functions\n",
    "def add(num1,num2):   #formal arguments\n",
    "    z = num1 + num2\n",
    "    print(z)\n",
    "    \n",
    "add(5,6)    #actual arguments\n",
    "add(10,10)\n",
    "add(11,30)"
   ]
  },
  {
   "cell_type": "code",
   "execution_count": null,
   "id": "9e50d03d",
   "metadata": {},
   "outputs": [],
   "source": [
    "## positional argument functions\n",
    "x = int(input(\"enter a number = \"))\n",
    "y = int(input(\"enter a number = \"))\n",
    "z = int(input(\"enter a number = \"))\n",
    "\n",
    "def add(num1,num2,num3):   #formal arguments\n",
    "    z = num1 + num2+num3\n",
    "    print(z)\n",
    "    \n",
    "add(x,y,z)   "
   ]
  },
  {
   "cell_type": "code",
   "execution_count": 3,
   "id": "5a2ad6ba",
   "metadata": {},
   "outputs": [
    {
     "name": "stdout",
     "output_type": "stream",
     "text": [
      "10\n",
      "200\n",
      "100\n"
     ]
    }
   ],
   "source": [
    "x = 10   #global variable\n",
    "y = 10   #global variable\n",
    "\n",
    "def xyz():\n",
    "    global x\n",
    "    x = 100   #local variables \n",
    "    y = 100   #local vcariables\n",
    "    z = x + y #local variables\n",
    "    print(z)\n",
    "\n",
    "print(x)\n",
    "xyz()\n",
    "print(x)\n",
    "# print(z)"
   ]
  },
  {
   "cell_type": "code",
   "execution_count": 7,
   "id": "c21f9c13",
   "metadata": {},
   "outputs": [
    {
     "name": "stdout",
     "output_type": "stream",
     "text": [
      "5\n",
      "4\n",
      "9\n"
     ]
    }
   ],
   "source": [
    "#default parameterized function\n",
    "\n",
    "def add(x=5,y=0):\n",
    "    z = x + y\n",
    "    print(z)\n",
    "    \n",
    "\n",
    "add()\n",
    "add(4)\n",
    "add(4,5)"
   ]
  },
  {
   "cell_type": "code",
   "execution_count": 16,
   "id": "3e7b4e2b",
   "metadata": {
    "scrolled": true
   },
   "outputs": [
    {
     "name": "stdout",
     "output_type": "stream",
     "text": [
      "(1, 2, 3, 4, 5, 6, 7, 8)\n",
      "{'a': 10, 'b': 20, 'c': 30}\n"
     ]
    }
   ],
   "source": [
    "## *args and **kwargs\n",
    "\n",
    "def xyz(*x,**y):\n",
    "    print(x)\n",
    "    print(y)\n",
    "    \n",
    "xyz(1,2,3,4,5,6,7,8,a=10,b=20,c=30)"
   ]
  },
  {
   "cell_type": "code",
   "execution_count": 21,
   "id": "e72445cd",
   "metadata": {},
   "outputs": [
    {
     "name": "stdout",
     "output_type": "stream",
     "text": [
      "1\n",
      "2\n"
     ]
    }
   ],
   "source": [
    "## *args and **kwargs\n",
    "z = [1,2,3,4]\n",
    "def xyz(x,y,z,w):\n",
    "    print(x)\n",
    "    print(y)\n",
    "    \n",
    "xyz(*z)"
   ]
  },
  {
   "cell_type": "code",
   "execution_count": 27,
   "id": "7825a9b2",
   "metadata": {},
   "outputs": [
    {
     "name": "stdout",
     "output_type": "stream",
     "text": [
      "(11, 30)\n"
     ]
    }
   ],
   "source": [
    "def xyz():\n",
    "    x =  5\n",
    "    y = 6\n",
    "    z = x + y\n",
    "    w = x * y\n",
    "    return z,w\n",
    "\n",
    "   \n",
    "\n",
    "c =  xyz()\n",
    "# print(c+100)\n",
    "print(c)"
   ]
  },
  {
   "cell_type": "code",
   "execution_count": 1,
   "id": "51e1adde",
   "metadata": {},
   "outputs": [
    {
     "name": "stdout",
     "output_type": "stream",
     "text": [
      "15\n"
     ]
    }
   ],
   "source": [
    "def xyz(x,*y):\n",
    "    z = x + y\n",
    "    print(z)\n",
    "\n",
    "xyz(5,y=10)\n",
    "\n"
   ]
  },
  {
   "cell_type": "markdown",
   "id": "5566b6ed",
   "metadata": {},
   "source": [
    "## Function overloading and function overidiing\n",
    "- whenever two or more functions having same name but the no. of parameters is different then it is called function overloading\n",
    "\n",
    "- whenever two or more functions having same name and  the no. of parameters is also same but the task is different then it is called function overridding"
   ]
  },
  {
   "cell_type": "code",
   "execution_count": 6,
   "id": "156b6193",
   "metadata": {},
   "outputs": [
    {
     "name": "stdout",
     "output_type": "stream",
     "text": [
      "4 5\n",
      "6 7 8\n"
     ]
    }
   ],
   "source": [
    "from multipledispatch import dispatch\n",
    "\n",
    "@dispatch(int,int)\n",
    "def xyz(x,y):\n",
    "    print(x,y)\n",
    "\n",
    "@dispatch(int,int,int)   \n",
    "def xyz(x,y,z):\n",
    "    print(x,y,z)\n",
    "    \n",
    "xyz(4,5)\n",
    "xyz(6,7,8)"
   ]
  },
  {
   "cell_type": "markdown",
   "id": "c5184516",
   "metadata": {},
   "source": [
    "## Recursion\n",
    "- function calling itself"
   ]
  },
  {
   "cell_type": "code",
   "execution_count": null,
   "id": "de1094d9",
   "metadata": {},
   "outputs": [],
   "source": [
    "def xyz():\n",
    "    print(\"hello\")\n",
    "    xyz()\n",
    "    \n",
    "xyz()"
   ]
  },
  {
   "cell_type": "code",
   "execution_count": 11,
   "id": "7731a0e2",
   "metadata": {},
   "outputs": [
    {
     "name": "stdout",
     "output_type": "stream",
     "text": [
      "enter a number  = 0\n",
      "1\n"
     ]
    }
   ],
   "source": [
    "# Q1 wap of factorial using recursion\n",
    "\n",
    "x =  int(input(\"enter a number  = \"))\n",
    "def fact(n):\n",
    "    if n == 0 or n == 1:\n",
    "        return 1\n",
    "    else:\n",
    "        return n * fact(n-1)\n",
    "    \n",
    "    \n",
    "c = fact(x)\n",
    "print(c)"
   ]
  },
  {
   "cell_type": "code",
   "execution_count": 19,
   "id": "62865aeb",
   "metadata": {},
   "outputs": [
    {
     "name": "stdout",
     "output_type": "stream",
     "text": [
      "enter a number = 5\n",
      "0\n",
      "1\n",
      "1\n",
      "2\n",
      "3\n"
     ]
    }
   ],
   "source": [
    "# Q1 wap of fibonacci using recursion\n",
    "# 0 1 1 2 3 5 8 13 21...\n",
    "\n",
    "x =  int(input(\"enter a number = \"))\n",
    "\n",
    "def fib(n):\n",
    "    if n <= 1:\n",
    "        return n\n",
    "    else:\n",
    "        return fib(n-2)+fib(n-1)\n",
    "\n",
    "if x <0:\n",
    "    print(\"series doesn't exists\")\n",
    "else:\n",
    "    for i in range(x):\n",
    "        print(fib(i))"
   ]
  },
  {
   "cell_type": "markdown",
   "id": "571c299a",
   "metadata": {},
   "source": [
    "## nested Function"
   ]
  },
  {
   "cell_type": "code",
   "execution_count": 1,
   "id": "c0230aab",
   "metadata": {},
   "outputs": [
    {
     "name": "stdout",
     "output_type": "stream",
     "text": [
      "7\n",
      "12\n"
     ]
    }
   ],
   "source": [
    "def xyz(x,y):\n",
    "    z =  x +y\n",
    "    print(z)\n",
    "    def pqr(x,y):\n",
    "        z = x  * y\n",
    "        print(z)\n",
    "    pqr(3,4)\n",
    "        \n",
    "xyz(3,4)\n"
   ]
  },
  {
   "cell_type": "code",
   "execution_count": null,
   "id": "94f2ad53",
   "metadata": {},
   "outputs": [],
   "source": []
  }
 ],
 "metadata": {
  "kernelspec": {
   "display_name": "Python 3 (ipykernel)",
   "language": "python",
   "name": "python3"
  },
  "language_info": {
   "codemirror_mode": {
    "name": "ipython",
    "version": 3
   },
   "file_extension": ".py",
   "mimetype": "text/x-python",
   "name": "python",
   "nbconvert_exporter": "python",
   "pygments_lexer": "ipython3",
   "version": "3.10.9"
  }
 },
 "nbformat": 4,
 "nbformat_minor": 5
}
