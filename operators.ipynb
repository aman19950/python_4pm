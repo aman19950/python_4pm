{
 "cells": [
  {
   "cell_type": "code",
   "execution_count": 2,
   "id": "54c67360",
   "metadata": {},
   "outputs": [
    {
     "name": "stdout",
     "output_type": "stream",
     "text": [
      "20\n",
      "0\n",
      "100\n",
      "2.0\n",
      "2\n",
      "0\n",
      "5\n",
      "32\n"
     ]
    }
   ],
   "source": [
    "print(10 + 10)        #20\n",
    "print(10 - 10)        #0\n",
    "print(10 * 10)        #100\n",
    "print(10 /  5)        #2.0 \n",
    "print(10 // 4)        #2     #floor division\n",
    "print(10 % 5)         #0       # mod\n",
    "print(5 % 10)         #5\n",
    "print(2 ** 5)        #32\n"
   ]
  },
  {
   "cell_type": "markdown",
   "id": "8bfcb269",
   "metadata": {},
   "source": [
    "## comparison op.\n"
   ]
  },
  {
   "cell_type": "code",
   "execution_count": 3,
   "id": "53ef5417",
   "metadata": {},
   "outputs": [
    {
     "name": "stdout",
     "output_type": "stream",
     "text": [
      "False\n",
      "False\n",
      "True\n",
      "True\n",
      "True\n",
      "False\n"
     ]
    }
   ],
   "source": [
    "print(10 > 10)        # False\n",
    "print(10 < 10)        # False\n",
    "print(10 >= 10)       # True\n",
    "print(10 <= 10)       # True\n",
    "print(10 == 10)       # True\n",
    "print(10 != 10)       # False"
   ]
  },
  {
   "cell_type": "markdown",
   "id": "20da3f51",
   "metadata": {},
   "source": [
    "## Logical op.\n",
    "- and,or,not"
   ]
  },
  {
   "cell_type": "code",
   "execution_count": 5,
   "id": "b9adb239",
   "metadata": {},
   "outputs": [
    {
     "name": "stdout",
     "output_type": "stream",
     "text": [
      "False\n"
     ]
    }
   ],
   "source": [
    "print(10 > 5 and 50 < 0)"
   ]
  },
  {
   "cell_type": "code",
   "execution_count": 6,
   "id": "9532eb40",
   "metadata": {},
   "outputs": [
    {
     "name": "stdout",
     "output_type": "stream",
     "text": [
      "False\n"
     ]
    }
   ],
   "source": [
    "print(10 > 5 and 50 < 0 or 10 > 67)"
   ]
  },
  {
   "cell_type": "code",
   "execution_count": 7,
   "id": "22439366",
   "metadata": {},
   "outputs": [
    {
     "name": "stdout",
     "output_type": "stream",
     "text": [
      "True\n"
     ]
    }
   ],
   "source": [
    "print(10 > 5 or 50 < 60 and 10 > 67)"
   ]
  },
  {
   "cell_type": "code",
   "execution_count": 8,
   "id": "eb0d1636",
   "metadata": {},
   "outputs": [
    {
     "name": "stdout",
     "output_type": "stream",
     "text": [
      "False\n"
     ]
    }
   ],
   "source": [
    "print(not(10 > 5 or 50 < 60 and 10 > 67))"
   ]
  },
  {
   "cell_type": "code",
   "execution_count": 10,
   "id": "938c3ec0",
   "metadata": {},
   "outputs": [
    {
     "name": "stdout",
     "output_type": "stream",
     "text": [
      "True\n"
     ]
    }
   ],
   "source": [
    "print( not(10 > 70))"
   ]
  },
  {
   "cell_type": "markdown",
   "id": "67df39bf",
   "metadata": {},
   "source": [
    "## Bitwise oper.\n",
    "- & ,| ,<<,>>"
   ]
  },
  {
   "cell_type": "code",
   "execution_count": 11,
   "id": "6789f02c",
   "metadata": {},
   "outputs": [
    {
     "name": "stdout",
     "output_type": "stream",
     "text": [
      "16\n"
     ]
    }
   ],
   "source": [
    "print(20 & 50)"
   ]
  },
  {
   "cell_type": "code",
   "execution_count": 12,
   "id": "fa1273bf",
   "metadata": {},
   "outputs": [
    {
     "name": "stdout",
     "output_type": "stream",
     "text": [
      "20\n"
     ]
    }
   ],
   "source": [
    "print(20 & 54)"
   ]
  },
  {
   "cell_type": "code",
   "execution_count": 13,
   "id": "f0248ac4",
   "metadata": {},
   "outputs": [
    {
     "name": "stdout",
     "output_type": "stream",
     "text": [
      "54\n"
     ]
    }
   ],
   "source": [
    "print(20 | 54)"
   ]
  },
  {
   "cell_type": "code",
   "execution_count": 14,
   "id": "9a5fda9f",
   "metadata": {},
   "outputs": [
    {
     "name": "stdout",
     "output_type": "stream",
     "text": [
      "144\n"
     ]
    }
   ],
   "source": [
    "print(36 << 2)"
   ]
  },
  {
   "cell_type": "code",
   "execution_count": 15,
   "id": "fbb6f914",
   "metadata": {},
   "outputs": [
    {
     "name": "stdout",
     "output_type": "stream",
     "text": [
      "1\n"
     ]
    }
   ],
   "source": [
    "print(5 >> 2)"
   ]
  },
  {
   "cell_type": "code",
   "execution_count": 16,
   "id": "9481eb2c",
   "metadata": {},
   "outputs": [
    {
     "name": "stdout",
     "output_type": "stream",
     "text": [
      "-5\n"
     ]
    }
   ],
   "source": [
    "print(~4)"
   ]
  },
  {
   "cell_type": "code",
   "execution_count": 17,
   "id": "f0bbfd26",
   "metadata": {},
   "outputs": [
    {
     "name": "stdout",
     "output_type": "stream",
     "text": [
      "4\n"
     ]
    }
   ],
   "source": [
    "print(~~4)"
   ]
  },
  {
   "cell_type": "code",
   "execution_count": 18,
   "id": "96643bf2",
   "metadata": {},
   "outputs": [
    {
     "name": "stdout",
     "output_type": "stream",
     "text": [
      "-5\n"
     ]
    }
   ],
   "source": [
    "print(~~~4)"
   ]
  },
  {
   "cell_type": "code",
   "execution_count": 22,
   "id": "dca95ec2",
   "metadata": {},
   "outputs": [
    {
     "name": "stdout",
     "output_type": "stream",
     "text": [
      "True\n",
      "False\n"
     ]
    }
   ],
   "source": [
    "print(0.5+0.4 == 0.9)\n",
    "print(0.1+0.2 == 0.3)"
   ]
  },
  {
   "cell_type": "markdown",
   "id": "2e41c12a",
   "metadata": {},
   "source": [
    "## Escape character\n",
    "- \\\n",
    "- \\t\n",
    "- \\n"
   ]
  },
  {
   "cell_type": "code",
   "execution_count": 27,
   "id": "0d235019",
   "metadata": {},
   "outputs": [
    {
     "name": "stdout",
     "output_type": "stream",
     "text": [
      "hello \"how\" are you\n"
     ]
    }
   ],
   "source": [
    "x = \"hello \\\"how\\\" are you\"\n",
    "# y = 'hello \"how\" are you'\n",
    "print(x)\n",
    "# print(y)"
   ]
  },
  {
   "cell_type": "code",
   "execution_count": 28,
   "id": "ac3b4308",
   "metadata": {},
   "outputs": [],
   "source": [
    "x = \"hello\\t\\thow are you\""
   ]
  },
  {
   "cell_type": "code",
   "execution_count": 30,
   "id": "c14dc043",
   "metadata": {},
   "outputs": [
    {
     "name": "stdout",
     "output_type": "stream",
     "text": [
      "hello\t\thow are you\n"
     ]
    }
   ],
   "source": [
    "print(x)"
   ]
  },
  {
   "cell_type": "code",
   "execution_count": 31,
   "id": "aae31f08",
   "metadata": {},
   "outputs": [
    {
     "name": "stdout",
     "output_type": "stream",
     "text": [
      "hello\n",
      "how are you\n"
     ]
    }
   ],
   "source": [
    "x = \"hello\\nhow are you\"\n",
    "print(x)"
   ]
  },
  {
   "cell_type": "code",
   "execution_count": 32,
   "id": "0ce97fdb",
   "metadata": {},
   "outputs": [
    {
     "name": "stdout",
     "output_type": "stream",
     "text": [
      "\\t\n"
     ]
    }
   ],
   "source": [
    "print(\"\\\\t\")"
   ]
  },
  {
   "cell_type": "code",
   "execution_count": 3,
   "id": "95bc2aad",
   "metadata": {},
   "outputs": [
    {
     "name": "stdout",
     "output_type": "stream",
     "text": [
      "11\n"
     ]
    }
   ],
   "source": [
    "x = \"hello how ahe you\"\n",
    "print(x.index('h',7))"
   ]
  },
  {
   "cell_type": "code",
   "execution_count": null,
   "id": "21924d57",
   "metadata": {},
   "outputs": [],
   "source": []
  }
 ],
 "metadata": {
  "kernelspec": {
   "display_name": "Python 3 (ipykernel)",
   "language": "python",
   "name": "python3"
  },
  "language_info": {
   "codemirror_mode": {
    "name": "ipython",
    "version": 3
   },
   "file_extension": ".py",
   "mimetype": "text/x-python",
   "name": "python",
   "nbconvert_exporter": "python",
   "pygments_lexer": "ipython3",
   "version": "3.10.9"
  }
 },
 "nbformat": 4,
 "nbformat_minor": 5
}
