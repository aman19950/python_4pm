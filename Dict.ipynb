{
 "cells": [
  {
   "cell_type": "markdown",
   "id": "6cb69218",
   "metadata": {},
   "source": [
    "## Dict---> {key:value}\n",
    "- dict is a collection of key value pair\n",
    "- dict is ordered\n",
    "- dict is unindexed\n",
    "- dict is mutable"
   ]
  },
  {
   "cell_type": "code",
   "execution_count": 1,
   "id": "5b727111",
   "metadata": {},
   "outputs": [
    {
     "name": "stdout",
     "output_type": "stream",
     "text": [
      "{'a': 1, 'b': 2, 'c': 3}\n"
     ]
    }
   ],
   "source": [
    "x = {\n",
    "    'a':1,\n",
    "    'b':2,\n",
    "    'c':3\n",
    "}\n",
    "print(x)"
   ]
  },
  {
   "cell_type": "code",
   "execution_count": 2,
   "id": "06b55b93",
   "metadata": {},
   "outputs": [
    {
     "name": "stdout",
     "output_type": "stream",
     "text": [
      "2\n"
     ]
    }
   ],
   "source": [
    "x = {\n",
    "    'a':1,\n",
    "    'b':2,\n",
    "    'c':3\n",
    "}\n",
    "print(x['b'])"
   ]
  },
  {
   "cell_type": "code",
   "execution_count": 3,
   "id": "62528b91",
   "metadata": {},
   "outputs": [
    {
     "name": "stdout",
     "output_type": "stream",
     "text": [
      "{'a': 1, 'b': 28, 'c': 3}\n"
     ]
    }
   ],
   "source": [
    "x = {\n",
    "    'a':1,\n",
    "    'b':2,\n",
    "    'c':3\n",
    "}\n",
    "x['b'] = 28\n",
    "print(x)"
   ]
  },
  {
   "cell_type": "code",
   "execution_count": 2,
   "id": "cc8508b4",
   "metadata": {},
   "outputs": [
    {
     "name": "stdout",
     "output_type": "stream",
     "text": [
      "3\n",
      "key not found\n"
     ]
    }
   ],
   "source": [
    "x = {\n",
    "    'a':1,\n",
    "    'b':2,\n",
    "    'c':3\n",
    "}\n",
    "print(x['c'])\n",
    "# print(x['d'])\n",
    "# print(x.get('c'))\n",
    "print(x.get('d','key not found'))"
   ]
  },
  {
   "cell_type": "code",
   "execution_count": 4,
   "id": "31b5c8b3",
   "metadata": {},
   "outputs": [
    {
     "name": "stdout",
     "output_type": "stream",
     "text": [
      "{'a': 1, 'b': 2, 'c': 3, 'd': 29}\n"
     ]
    }
   ],
   "source": [
    "x = {\n",
    "    'a':1,\n",
    "    'b':2,\n",
    "    'c':3\n",
    "}\n",
    "# x['c'] =28\n",
    "x['d'] = 29  #important\n",
    "print(x)"
   ]
  },
  {
   "cell_type": "code",
   "execution_count": 11,
   "id": "c925c1c0",
   "metadata": {},
   "outputs": [
    {
     "name": "stdout",
     "output_type": "stream",
     "text": [
      "{'a': 1, 'b': 2, 'c': 3, 56: 78, 6.7: 19}\n"
     ]
    }
   ],
   "source": [
    "x = {\n",
    "    'a':1,\n",
    "    'b':2,\n",
    "    'c':3,\n",
    "    56 :78,\n",
    "    6.7:19\n",
    "}\n",
    "print(x)\n"
   ]
  },
  {
   "cell_type": "code",
   "execution_count": 13,
   "id": "4678a38b",
   "metadata": {},
   "outputs": [
    {
     "name": "stdout",
     "output_type": "stream",
     "text": [
      "{'a': 100, 'b': 100, 'c': 3}\n"
     ]
    }
   ],
   "source": [
    "# duplicate keys are not allowed\n",
    "x = {\n",
    "    'a':1,\n",
    "    'b':100,\n",
    "    'c':3,\n",
    "    'a':100\n",
    "}\n",
    "print(x)"
   ]
  },
  {
   "cell_type": "code",
   "execution_count": 15,
   "id": "349c25cb",
   "metadata": {},
   "outputs": [
    {
     "name": "stdout",
     "output_type": "stream",
     "text": [
      "{'name': ['sohan', 'mohan', 'rohan', 'ram'], 'age': (34, 56, 67), 'marks': {56, 5, 23}}\n"
     ]
    }
   ],
   "source": [
    "x = {\n",
    "    'name'  : ['sohan','mohan','rohan'],\n",
    "    'age'   : (34,56,67),\n",
    "    'marks' : {23,5,56}\n",
    "}\n",
    "x['name'].append('ram')\n",
    "\n",
    "print(x)"
   ]
  },
  {
   "cell_type": "code",
   "execution_count": 17,
   "id": "aae4a832",
   "metadata": {},
   "outputs": [
    {
     "name": "stdout",
     "output_type": "stream",
     "text": [
      "{'name': ['sohan', 'mohan', 'rohan'], 'age': (34, 56, 67), 'marks': {56, 5, 23}}\n"
     ]
    }
   ],
   "source": [
    "x = {\n",
    "    'name'  : ['sohan','mohan','rohan'],\n",
    "    'age'   : (34,56,67),\n",
    "    'marks' : {23,5,56},\n",
    "\n",
    "}\n",
    "\n",
    "print(x)"
   ]
  },
  {
   "cell_type": "code",
   "execution_count": 18,
   "id": "936abdbd",
   "metadata": {},
   "outputs": [
    {
     "name": "stdout",
     "output_type": "stream",
     "text": [
      "dict_keys(['name', 'age', 'marks'])\n",
      "dict_values([['sohan', 'mohan', 'rohan'], (34, 56, 67), {56, 5, 23}])\n",
      "dict_items([('name', ['sohan', 'mohan', 'rohan']), ('age', (34, 56, 67)), ('marks', {56, 5, 23})])\n"
     ]
    }
   ],
   "source": [
    "print(x.keys())\n",
    "print(x.values())\n",
    "print(x.items())"
   ]
  },
  {
   "cell_type": "code",
   "execution_count": 21,
   "id": "f3e8f583",
   "metadata": {},
   "outputs": [
    {
     "name": "stdout",
     "output_type": "stream",
     "text": [
      "abhinav --- 20 --- 9.9\n"
     ]
    }
   ],
   "source": [
    "x = {\n",
    "    'name':'abhinav',\n",
    "    'age':20,\n",
    "    'marks':9.9\n",
    "}\n",
    "print(x['name'],\"---\",x['age'],\"---\",x['marks'])"
   ]
  },
  {
   "cell_type": "code",
   "execution_count": 27,
   "id": "6e1c96c9",
   "metadata": {},
   "outputs": [
    {
     "name": "stdout",
     "output_type": "stream",
     "text": [
      "dict_items([('a', 1), ('b', 2), ('c', 2)])\n",
      "present\n"
     ]
    }
   ],
   "source": [
    "x = {\n",
    "    'a':1,\n",
    "    'b':2,\n",
    "    'c':2\n",
    "}\n",
    "print(x.items())\n",
    "# if 1 in x:\n",
    "#     print(\"present\")\n",
    "# else:\n",
    "#     print(\"not present\")\n",
    "    \n",
    "# if 1 in x.values():\n",
    "#     print(\"present\")\n",
    "# else:\n",
    "#     print(\"not present\")\n",
    "    \n",
    "\n",
    "if 'a' in x:\n",
    "    print(\"present\")\n",
    "else:\n",
    "    print(\"not present\")"
   ]
  },
  {
   "cell_type": "code",
   "execution_count": 34,
   "id": "24db3950",
   "metadata": {
    "scrolled": true
   },
   "outputs": [
    {
     "name": "stdout",
     "output_type": "stream",
     "text": [
      "{}\n",
      "('c', 3)\n",
      "2\n"
     ]
    }
   ],
   "source": [
    "x = {\n",
    "    \n",
    "    'a':1,\n",
    "    'b':2,\n",
    "    'c':3\n",
    "}\n",
    "\n",
    "# del x['a']\n",
    "g = x.pop('b') #it will pop the value of the given key\n",
    "z = x.popitem() #it will pop the last key value pair\n",
    "x.clear()\n",
    "print(x)\n",
    "print(z)\n",
    "print(g)"
   ]
  },
  {
   "cell_type": "markdown",
   "id": "bd52e383",
   "metadata": {},
   "source": [
    "## For loop\n"
   ]
  },
  {
   "cell_type": "code",
   "execution_count": 12,
   "id": "5e20718c",
   "metadata": {},
   "outputs": [
    {
     "name": "stdout",
     "output_type": "stream",
     "text": [
      "a --- 11\n",
      "b --- 22\n",
      "c --- 33\n"
     ]
    }
   ],
   "source": [
    "x = {\n",
    "    'a':11,\n",
    "    'b':22,\n",
    "    'c':33\n",
    "}\n",
    "\n",
    "# for i in x:   # it will print only keys and values with the help of keys\n",
    "#     print(i,\"---\",x[i])\n",
    "    \n",
    "# for i in x.values():   # it will print only values\n",
    "#     print(i)\n",
    "    \n",
    "for i,j in x.items():   # it will print only key value pair\n",
    "    print(i,\"---\",j)"
   ]
  },
  {
   "cell_type": "code",
   "execution_count": 14,
   "id": "0e38dd27",
   "metadata": {},
   "outputs": [
    {
     "name": "stdout",
     "output_type": "stream",
     "text": [
      "{'a': 11, 'b': 22, 'c': 33, 'd': 89, 'e': 90}\n"
     ]
    }
   ],
   "source": [
    "x = {\n",
    "    'a':11,\n",
    "    'b':22,\n",
    "    'c':33\n",
    "}\n",
    "# x['d'] = 89\n",
    "x.update({'d':89,'e':90})\n",
    "print(x)"
   ]
  },
  {
   "cell_type": "code",
   "execution_count": null,
   "id": "bf1c2338",
   "metadata": {},
   "outputs": [],
   "source": []
  }
 ],
 "metadata": {
  "kernelspec": {
   "display_name": "Python 3 (ipykernel)",
   "language": "python",
   "name": "python3"
  },
  "language_info": {
   "codemirror_mode": {
    "name": "ipython",
    "version": 3
   },
   "file_extension": ".py",
   "mimetype": "text/x-python",
   "name": "python",
   "nbconvert_exporter": "python",
   "pygments_lexer": "ipython3",
   "version": "3.10.9"
  }
 },
 "nbformat": 4,
 "nbformat_minor": 5
}
