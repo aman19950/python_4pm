{
 "cells": [
  {
   "cell_type": "code",
   "execution_count": 1,
   "id": "d663d895",
   "metadata": {},
   "outputs": [
    {
     "name": "stdout",
     "output_type": "stream",
     "text": [
      "{'a': 0, 'b': 0, 'c': 0}\n"
     ]
    }
   ],
   "source": [
    "x = ['a','b','c']\n",
    "y = 0\n",
    "\n",
    "# output:-\n",
    "# z ={'a':0,'b':0,'c':0}\n",
    "z = {}\n",
    "for i in x:\n",
    "    z[i] = y\n",
    "print(z)"
   ]
  },
  {
   "cell_type": "code",
   "execution_count": 2,
   "id": "f4c3c647",
   "metadata": {},
   "outputs": [
    {
     "name": "stdout",
     "output_type": "stream",
     "text": [
      "{'a': 1, 'b': 2, 'c': 3}\n"
     ]
    }
   ],
   "source": [
    "x = ['a','b','c']\n",
    "y = [1,2,3]\n",
    "\n",
    "# output:-\n",
    "# z ={'a':1,'b':2,'c':3}\n",
    "z = {}\n",
    "for i in range(len(x)):\n",
    "    z.update({x[i]:y[i]})\n",
    "print(z)"
   ]
  },
  {
   "cell_type": "code",
   "execution_count": 3,
   "id": "91d26f5d",
   "metadata": {},
   "outputs": [
    {
     "name": "stdout",
     "output_type": "stream",
     "text": [
      "[1, 2, 3, 100]\n",
      "((4, 5, 6), 200)\n"
     ]
    }
   ],
   "source": [
    "x = {\n",
    "    1:[1,2,3],\n",
    "    2:(4,5,6)\n",
    "}\n",
    "x[1].append(100)\n",
    "print(x[1])\n",
    "y = [x[2]]\n",
    "y.append(200)\n",
    "x[2] = tuple(y)\n",
    "print(x[2])"
   ]
  },
  {
   "cell_type": "code",
   "execution_count": 6,
   "id": "ec379ad3",
   "metadata": {},
   "outputs": [
    {
     "name": "stdout",
     "output_type": "stream",
     "text": [
      "True\n"
     ]
    }
   ],
   "source": [
    "x={'a':11,'b':22}\n",
    "y={'b':22,'a':11}\n",
    "\n",
    "print(x == y) # False\n",
    "# print(x <= y) # error"
   ]
  },
  {
   "cell_type": "code",
   "execution_count": 7,
   "id": "04b89842",
   "metadata": {},
   "outputs": [
    {
     "name": "stdout",
     "output_type": "stream",
     "text": [
      "{0: 1, 1: 1, 2: 1}\n"
     ]
    }
   ],
   "source": [
    "x = {}\n",
    "for i in range(3):\n",
    "    for j in range(2):\n",
    "        x[i] = j\n",
    "print(x)"
   ]
  },
  {
   "cell_type": "code",
   "execution_count": 8,
   "id": "439c78ec",
   "metadata": {},
   "outputs": [
    {
     "name": "stdout",
     "output_type": "stream",
     "text": [
      "{11: 'a', 22: 'b', 33: 'c'}\n"
     ]
    }
   ],
   "source": [
    "x = {\n",
    "    'a':11,\n",
    "    'b':22,\n",
    "    'c':33\n",
    "}\n",
    "\n",
    "z = {}\n",
    "for i,j in x.items():\n",
    "    z[j] = i\n",
    "print(z)"
   ]
  },
  {
   "cell_type": "code",
   "execution_count": 16,
   "id": "44f2ce91",
   "metadata": {},
   "outputs": [
    {
     "name": "stdout",
     "output_type": "stream",
     "text": [
      "{'h': [0, 6], 'e': [1, 12], 'l': [2, 3], 'o': [4, 7, 15], ' ': [5, 9, 13], 'w': [8], 'a': [10], 'r': [11], 'y': [14], 'u': [16]}\n"
     ]
    }
   ],
   "source": [
    "x = \"hello how are you\"\n",
    "# output\n",
    "z = {}\n",
    "\n",
    "for i in range(len(x)):\n",
    "    if x[i] not in z:\n",
    "        z[x[i]] = [i]\n",
    "    else:\n",
    "        z[x[i]].append(i)\n",
    "print(z)\n",
    "    "
   ]
  },
  {
   "cell_type": "code",
   "execution_count": 17,
   "id": "6af06551",
   "metadata": {},
   "outputs": [
    {
     "name": "stdout",
     "output_type": "stream",
     "text": [
      "4\n"
     ]
    }
   ],
   "source": [
    "x = {}\n",
    "x[1] = 1\n",
    "x['1'] = 2\n",
    "x[1] = x[1]+1\n",
    "c = 0\n",
    "for i in x:\n",
    "    c =  c +x[i]\n",
    "print(c)"
   ]
  },
  {
   "cell_type": "code",
   "execution_count": 18,
   "id": "2339b8c8",
   "metadata": {},
   "outputs": [
    {
     "name": "stdout",
     "output_type": "stream",
     "text": [
      "6\n"
     ]
    }
   ],
   "source": [
    "x = {}\n",
    "x[1] = 1\n",
    "x['1'] = 4\n",
    "x[1.0] = x[1]+1\n",
    "c = 0\n",
    "for i in x:\n",
    "    c =  c +x[i]\n",
    "print(c)"
   ]
  },
  {
   "cell_type": "code",
   "execution_count": 20,
   "id": "803dabb1",
   "metadata": {},
   "outputs": [
    {
     "name": "stdout",
     "output_type": "stream",
     "text": [
      "{'a': 90, 'b': 2, 'c': 3, 'd': 90}\n"
     ]
    }
   ],
   "source": [
    "x = {\n",
    "    'a':1,\n",
    "    'b':2,\n",
    "    'c':3\n",
    "}\n",
    "x['a'] = 90\n",
    "x['d']  = 90\n",
    "print(x)"
   ]
  },
  {
   "cell_type": "code",
   "execution_count": 25,
   "id": "5243d840",
   "metadata": {},
   "outputs": [
    {
     "name": "stdout",
     "output_type": "stream",
     "text": [
      "1\n"
     ]
    }
   ],
   "source": [
    "x = {\n",
    "    'a':1,\n",
    "    'b':2,\n",
    "    'c':3\n",
    "}\n",
    "print(x.get('a',\"b\"))\n",
    "# x.get('a',\"key not found\")\n",
    "# print(x)"
   ]
  },
  {
   "cell_type": "code",
   "execution_count": 27,
   "id": "3815401b",
   "metadata": {},
   "outputs": [
    {
     "name": "stdout",
     "output_type": "stream",
     "text": [
      "{'a': 1, 'c': 3, 'd': 27654}\n"
     ]
    }
   ],
   "source": [
    "x = {\n",
    "    'a':1,\n",
    "    'b':27654,\n",
    "    'c':3\n",
    "}\n",
    "x['d'] = x.pop('b')\n",
    "print(x)"
   ]
  },
  {
   "cell_type": "code",
   "execution_count": 28,
   "id": "b2899cb7",
   "metadata": {},
   "outputs": [
    {
     "name": "stdout",
     "output_type": "stream",
     "text": [
      "{'a': 1, 'c': 3, 'd': 2}\n"
     ]
    }
   ],
   "source": [
    "x = {\n",
    "    'a':1,\n",
    "    'b':2,\n",
    "    'c':3\n",
    "}\n",
    "x['d'] = x.pop('b')\n",
    "print(x)"
   ]
  },
  {
   "cell_type": "code",
   "execution_count": 29,
   "id": "f5100537",
   "metadata": {},
   "outputs": [
    {
     "name": "stdout",
     "output_type": "stream",
     "text": [
      "sum = 6\n",
      "mul = 6\n"
     ]
    }
   ],
   "source": [
    "x = {\n",
    "    'a':1,\n",
    "    'b':2,\n",
    "    'c':3\n",
    "}\n",
    "\n",
    "s = 0\n",
    "m = 1\n",
    "\n",
    "for i in x.values():\n",
    "    s = s + i\n",
    "    m = m * i\n",
    "    \n",
    "print(\"sum =\",s)\n",
    "print(\"mul =\",m)"
   ]
  },
  {
   "cell_type": "code",
   "execution_count": 30,
   "id": "ef7b2017",
   "metadata": {},
   "outputs": [
    {
     "name": "stdout",
     "output_type": "stream",
     "text": [
      "[1, 2, 3, 4, 5]\n"
     ]
    }
   ],
   "source": [
    "x = [i for i in range(1,6)]\n",
    "print(x)"
   ]
  },
  {
   "cell_type": "code",
   "execution_count": 31,
   "id": "73c3f12a",
   "metadata": {},
   "outputs": [
    {
     "name": "stdout",
     "output_type": "stream",
     "text": [
      "{1: 1, 2: 4, 3: 9, 4: 16, 5: 25}\n"
     ]
    }
   ],
   "source": [
    "x = {i:i*i for i in range(1,6)}\n",
    "print(x)"
   ]
  },
  {
   "cell_type": "code",
   "execution_count": 32,
   "id": "6bc8e0ff",
   "metadata": {},
   "outputs": [
    {
     "name": "stdout",
     "output_type": "stream",
     "text": [
      "{(3, 1), (4, 1), (4, 2), (5, 2)}\n"
     ]
    }
   ],
   "source": [
    "s1={3, 4}\n",
    "s2={1, 2}\n",
    "s3=set()\n",
    "i=0\n",
    "j=0\n",
    "for i in s1:\n",
    "    for j in s2:\n",
    "        s3.add((i,j))\n",
    "        i+=1\n",
    "        j+=1\n",
    "print(s3)\n",
    "# a) {(3, 4), (1, 2)}\n",
    "# b) Error\n",
    "# c) {(4, 2), (3, 1), (4, 1), (5, 2)}\n",
    "# d) {(3, 1), (4, 2)}"
   ]
  },
  {
   "cell_type": "code",
   "execution_count": null,
   "id": "8f6a35e6",
   "metadata": {},
   "outputs": [],
   "source": []
  }
 ],
 "metadata": {
  "kernelspec": {
   "display_name": "Python 3 (ipykernel)",
   "language": "python",
   "name": "python3"
  },
  "language_info": {
   "codemirror_mode": {
    "name": "ipython",
    "version": 3
   },
   "file_extension": ".py",
   "mimetype": "text/x-python",
   "name": "python",
   "nbconvert_exporter": "python",
   "pygments_lexer": "ipython3",
   "version": "3.10.9"
  }
 },
 "nbformat": 4,
 "nbformat_minor": 5
}
