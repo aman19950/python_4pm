{
 "cells": [
  {
   "cell_type": "markdown",
   "id": "12706309",
   "metadata": {},
   "source": [
    "### if-else"
   ]
  },
  {
   "cell_type": "code",
   "execution_count": 5,
   "id": "74ad53ec",
   "metadata": {},
   "outputs": [
    {
     "name": "stdout",
     "output_type": "stream",
     "text": [
      "hello\n",
      "hey\n"
     ]
    }
   ],
   "source": [
    "if(10 > 5):\n",
    "    print(\"hello\")\n",
    "    print(\"hey\")"
   ]
  },
  {
   "cell_type": "code",
   "execution_count": 4,
   "id": "a7f9108f",
   "metadata": {},
   "outputs": [
    {
     "name": "stdout",
     "output_type": "stream",
     "text": [
      "bye\n"
     ]
    }
   ],
   "source": [
    "if(10 > 15):\n",
    "    print(\"hello\")\n",
    "    print(\"hey\")\n",
    "else:\n",
    "    print(\"bye\")"
   ]
  },
  {
   "cell_type": "code",
   "execution_count": 5,
   "id": "9014e2c2",
   "metadata": {},
   "outputs": [
    {
     "name": "stdout",
     "output_type": "stream",
     "text": [
      "one\n",
      "10.6\n",
      "hey\n",
      "true\n"
     ]
    }
   ],
   "source": [
    "if(1):\n",
    "    print(\"one\")\n",
    "    \n",
    "if(0):\n",
    "    print(\"zero\")\n",
    "\n",
    "if(10.6):\n",
    "    print(\"10.6\")\n",
    "    \n",
    "if(\"hello\"):\n",
    "    print(\"hey\")\n",
    "\n",
    "if(True):\n",
    "    print(\"true\")\n",
    "    \n",
    "if(False):\n",
    "    print(\"false\")\n",
    "\n",
    "if (None):\n",
    "    print(\"none\")"
   ]
  },
  {
   "cell_type": "markdown",
   "id": "1a954737",
   "metadata": {},
   "source": [
    "## if-elif-else"
   ]
  },
  {
   "cell_type": "code",
   "execution_count": 10,
   "id": "0d554d63",
   "metadata": {},
   "outputs": [
    {
     "name": "stdout",
     "output_type": "stream",
     "text": [
      "bye\n"
     ]
    }
   ],
   "source": [
    "if(10 > 15):\n",
    "    print(\"hello\")\n",
    "elif(20 > 25):\n",
    "    print(\"hey\")\n",
    "elif(30 > 36):\n",
    "    print(\"hi\")\n",
    "else:\n",
    "    print(\"bye\")"
   ]
  },
  {
   "cell_type": "code",
   "execution_count": 12,
   "id": "3a18d25b",
   "metadata": {},
   "outputs": [
    {
     "name": "stdout",
     "output_type": "stream",
     "text": [
      "enter a 1st number = 5\n",
      "enter a 2nd number = 5\n",
      "10\n"
     ]
    }
   ],
   "source": [
    "x = int(input(\"enter a 1st number = \"))\n",
    "y = int(input(\"enter a 2nd number = \"))\n",
    "\n",
    "z = x + y\n",
    "\n",
    "print(z)"
   ]
  },
  {
   "cell_type": "markdown",
   "id": "ca939472",
   "metadata": {},
   "source": [
    "### Q1 wap to print \"positive\" if a number is +ve else print \"negative\" from user input"
   ]
  },
  {
   "cell_type": "code",
   "execution_count": 16,
   "id": "676f1659",
   "metadata": {},
   "outputs": [
    {
     "name": "stdout",
     "output_type": "stream",
     "text": [
      "enter a number = 0\n",
      "0 is zero\n"
     ]
    }
   ],
   "source": [
    "x = int(input(\"enter a number = \"))\n",
    "\n",
    "if x > 0:\n",
    "    print(x,\"is positive\")\n",
    "elif x == 0:\n",
    "    print(x,\"is zero\")\n",
    "else:\n",
    "    print(x,\"is negative\")"
   ]
  },
  {
   "cell_type": "markdown",
   "id": "4dbea259",
   "metadata": {},
   "source": [
    "### wap to print fizz if a number is divisible by 3,print Buzz if a number is  divisible by 5 and print fizzbuz if a number is divisible by 3 and 5 else print the number as it is."
   ]
  },
  {
   "cell_type": "code",
   "execution_count": 22,
   "id": "d761bfc9",
   "metadata": {},
   "outputs": [
    {
     "name": "stdout",
     "output_type": "stream",
     "text": [
      "enter a number = 29\n",
      "29\n"
     ]
    }
   ],
   "source": [
    "x = int(input(\"enter a number = \"))\n",
    "\n",
    "if(x % 3 == 0 and x%5 == 0):\n",
    "    print(\"fizzBuzz\")\n",
    "elif(x % 5 == 0):\n",
    "    print(\"buzz\")\n",
    "elif(x%3 == 0 ):\n",
    "    print(\"fizz\")\n",
    "else:\n",
    "    print(x)"
   ]
  },
  {
   "cell_type": "code",
   "execution_count": 4,
   "id": "e0ba9758",
   "metadata": {},
   "outputs": [
    {
     "name": "stdout",
     "output_type": "stream",
     "text": [
      "enter a 1st side = 34\n",
      "enter a 2nd side = 34\n",
      "enter a 3rd side = 34\n",
      "eq. tri\n"
     ]
    }
   ],
   "source": [
    "s1 = int(input(\"enter a 1st side = \"))\n",
    "s2 = int(input(\"enter a 2nd side = \"))\n",
    "s3 = int(input(\"enter a 3rd side = \"))\n",
    "\n",
    "if s1 == s2 == s3:\n",
    "    print(\"eq. tri\")\n",
    "elif(s1 == s2 or s2 == s3 or s1 == s3):\n",
    "    print(\"iso. tri.\")\n",
    "else:\n",
    "    print(\"scal. tri\")"
   ]
  },
  {
   "cell_type": "markdown",
   "id": "4f1fb97c",
   "metadata": {},
   "source": [
    "## Nested if"
   ]
  },
  {
   "cell_type": "code",
   "execution_count": 32,
   "id": "c695d0a6",
   "metadata": {},
   "outputs": [
    {
     "name": "stdout",
     "output_type": "stream",
     "text": [
      "hello\n",
      "bye 1\n"
     ]
    }
   ],
   "source": [
    "if(10 > 5):\n",
    "    print(\"hello\")\n",
    "    if(20 < 5):\n",
    "        print(\"hey\")\n",
    "        if(30 > 20 ):\n",
    "            print(\"hi\")\n",
    "        else:\n",
    "            print(\"bye\")\n",
    "    else:\n",
    "        print(\"bye 1\")\n",
    "else:\n",
    "    print(\"bye 2\")"
   ]
  },
  {
   "cell_type": "code",
   "execution_count": 34,
   "id": "e85827ee",
   "metadata": {},
   "outputs": [
    {
     "name": "stdout",
     "output_type": "stream",
     "text": [
      "hello\n",
      "hey\n",
      "heeeeeee\n"
     ]
    }
   ],
   "source": [
    "if(10 > 5):\n",
    "    print(\"hello\")\n",
    "    if(20 > 5):\n",
    "        print(\"hey\")\n",
    "        if(30 < 20 ):\n",
    "            print(\"hi\")\n",
    "        elif(30 >7):\n",
    "            print(\"heeeeeee\")\n",
    "        else:\n",
    "            print(\"bye\")\n",
    "else:\n",
    "    print(\"bye 2\")"
   ]
  },
  {
   "cell_type": "code",
   "execution_count": 3,
   "id": "3ca5f7c0",
   "metadata": {},
   "outputs": [
    {
     "name": "stdout",
     "output_type": "stream",
     "text": [
      "enter your percentage = -100\n",
      "invalid percentage\n"
     ]
    }
   ],
   "source": [
    "perc = float(input(\"enter your percentage = \"))\n",
    "\n",
    "if (perc >80 and perc <=100):\n",
    "    print(\"Grade A\")\n",
    "elif (perc >60 and perc <=80):\n",
    "    print(\"Grade B\")   \n",
    "elif (perc >40 and perc <=60):\n",
    "    print(\"Grade C\")    \n",
    "elif (perc >20 and perc <=40):\n",
    "    print(\"Grade D\")\n",
    "elif (perc >0 and perc <=20):\n",
    "    print(\"Fail\")\n",
    "else:\n",
    "    print(\"invalid percentage\")"
   ]
  },
  {
   "cell_type": "markdown",
   "id": "336056fe",
   "metadata": {},
   "source": [
    "### Find a greater number between two numbers (using nested if )"
   ]
  },
  {
   "cell_type": "code",
   "execution_count": 5,
   "id": "8cf7fc7b",
   "metadata": {},
   "outputs": [
    {
     "name": "stdout",
     "output_type": "stream",
     "text": [
      "enter a 1st number = 5\n",
      "enter a 2nd number = 7\n",
      "1.press '+' for add\n",
      "2.press '-' for sub.+\n",
      "12\n"
     ]
    }
   ],
   "source": [
    "num_1 = int(input(\"enter a 1st number = \"))\n",
    "num_2 = int(input(\"enter a 2nd number = \"))\n",
    "choice = input(\"1.press '+' for add\\n2.press '-' for sub.\\n\")\n",
    "\n",
    "if choice == '+':\n",
    "    print(num_1+num_2)\n",
    "elif(choice == '-'):\n",
    "    print(num_1 - num_2)"
   ]
  },
  {
   "cell_type": "code",
   "execution_count": 7,
   "id": "71f1ec00",
   "metadata": {},
   "outputs": [
    {
     "name": "stdout",
     "output_type": "stream",
     "text": [
      "not present\n"
     ]
    }
   ],
   "source": [
    "x = \"hello how are you\"\n",
    "\n",
    "if 'dfgw' in x:\n",
    "    print(\"present\")\n",
    "else:\n",
    "    print(\"not present\")"
   ]
  },
  {
   "cell_type": "code",
   "execution_count": 9,
   "id": "98a3d966",
   "metadata": {},
   "outputs": [
    {
     "name": "stdout",
     "output_type": "stream",
     "text": [
      "not present\n"
     ]
    }
   ],
   "source": [
    "x = \"hello how are you\"\n",
    "\n",
    "if 's' not in x:\n",
    "    print(\"not present\")\n",
    "else:\n",
    "    print(\"present\")"
   ]
  },
  {
   "cell_type": "code",
   "execution_count": null,
   "id": "912a92a8",
   "metadata": {},
   "outputs": [],
   "source": []
  }
 ],
 "metadata": {
  "kernelspec": {
   "display_name": "Python 3 (ipykernel)",
   "language": "python",
   "name": "python3"
  },
  "language_info": {
   "codemirror_mode": {
    "name": "ipython",
    "version": 3
   },
   "file_extension": ".py",
   "mimetype": "text/x-python",
   "name": "python",
   "nbconvert_exporter": "python",
   "pygments_lexer": "ipython3",
   "version": "3.10.9"
  }
 },
 "nbformat": 4,
 "nbformat_minor": 5
}
