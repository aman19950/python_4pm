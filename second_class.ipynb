{
 "cells": [
  {
   "cell_type": "code",
   "execution_count": 3,
   "id": "dd0af7c5",
   "metadata": {},
   "outputs": [
    {
     "name": "stdout",
     "output_type": "stream",
     "text": [
      "yo\n",
      "you\n",
      "hell\n"
     ]
    }
   ],
   "source": [
    "x = \"hello how are you\"\n",
    "\n",
    "# print(x[-1:-3])\n",
    "print(x[-3:-1])\n",
    "print(x[-3:])\n",
    "print(x[ :4])"
   ]
  },
  {
   "cell_type": "code",
   "execution_count": 5,
   "id": "e0ba9167",
   "metadata": {},
   "outputs": [
    {
     "name": "stdout",
     "output_type": "stream",
     "text": [
      "hello how \n",
      "hlohw\n"
     ]
    }
   ],
   "source": [
    "x = \"hello how are you\"\n",
    "print(x[0:10])      # x[start_index : stop_index :step/skip]\n",
    "print(x[0:10:2])"
   ]
  },
  {
   "cell_type": "code",
   "execution_count": 13,
   "id": "7e3a3998",
   "metadata": {},
   "outputs": [
    {
     "name": "stdout",
     "output_type": "stream",
     "text": [
      "17\n",
      "8\n",
      "6\n",
      "8\n",
      "0\n",
      "-1\n"
     ]
    }
   ],
   "source": [
    "x = \"hello how are you\"\n",
    "print(len(x))\n",
    "print(x.index('w'))\n",
    "print(x.index('h'))\n",
    "# print(x.index('s'))   # it will give you error\n",
    "print(x.find('w'))\n",
    "print(x.find('h'))\n",
    "print(x.find('s'))\n"
   ]
  },
  {
   "cell_type": "code",
   "execution_count": 25,
   "id": "2982bb6d",
   "metadata": {},
   "outputs": [
    {
     "name": "stdout",
     "output_type": "stream",
     "text": [
      "11\n",
      "11\n",
      "14\n"
     ]
    }
   ],
   "source": [
    "x = \"hello how ahe you\"\n",
    "print(x.index('h',7))\n",
    "# print(x.rindex('h'))\n",
    "print(x.rfind('h'))\n",
    "print(x.index('you'))"
   ]
  },
  {
   "cell_type": "code",
   "execution_count": 32,
   "id": "e0ea91c1",
   "metadata": {},
   "outputs": [
    {
     "name": "stdout",
     "output_type": "stream",
     "text": [
      "hello how are you\n",
      "hiello hiow are you\n"
     ]
    }
   ],
   "source": [
    "x = \"hello how are you\"\n",
    "print(x.replace('hellohow','hi'))\n",
    "print(x.replace('h','hi',2))"
   ]
  },
  {
   "cell_type": "code",
   "execution_count": null,
   "id": "1662f418",
   "metadata": {},
   "outputs": [],
   "source": []
  }
 ],
 "metadata": {
  "kernelspec": {
   "display_name": "Python 3 (ipykernel)",
   "language": "python",
   "name": "python3"
  },
  "language_info": {
   "codemirror_mode": {
    "name": "ipython",
    "version": 3
   },
   "file_extension": ".py",
   "mimetype": "text/x-python",
   "name": "python",
   "nbconvert_exporter": "python",
   "pygments_lexer": "ipython3",
   "version": "3.10.9"
  }
 },
 "nbformat": 4,
 "nbformat_minor": 5
}
