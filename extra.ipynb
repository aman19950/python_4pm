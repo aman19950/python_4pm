{
 "cells": [
  {
   "cell_type": "code",
   "execution_count": 2,
   "id": "a8c84067",
   "metadata": {},
   "outputs": [
    {
     "name": "stdout",
     "output_type": "stream",
     "text": [
      "[1, 2, 3, 10]\n",
      "[1, 2, 3, 10]\n",
      "1831402056512\n",
      "1831402056512\n"
     ]
    }
   ],
   "source": [
    "x = [1,2,3]\n",
    "y = x\n",
    "y.append(10)\n",
    "print(y)\n",
    "print(x)\n",
    "print(id(x))\n",
    "print(id(y))"
   ]
  },
  {
   "cell_type": "code",
   "execution_count": 12,
   "id": "ed51f32d",
   "metadata": {},
   "outputs": [
    {
     "name": "stdout",
     "output_type": "stream",
     "text": [
      "[[1, 2, 3, 10]]\n",
      "[[1, 2, 3, 10]]\n",
      "1831402053056\n",
      "1831402052544\n"
     ]
    }
   ],
   "source": [
    "#shallow copy\n",
    "import copy\n",
    "x = [[1,2,3]]\n",
    "y =  copy.copy(x)\n",
    "x[0].append(10)\n",
    "print(y)  # [1,2,3]\n",
    "print(x)  #[1,2,3,10]\n",
    "print(id(x))\n",
    "print(id(y))"
   ]
  },
  {
   "cell_type": "code",
   "execution_count": 13,
   "id": "5beff0f6",
   "metadata": {},
   "outputs": [
    {
     "name": "stdout",
     "output_type": "stream",
     "text": [
      "[[1, 2, 3]]\n",
      "[[1, 2, 3, 10]]\n",
      "1831402058688\n",
      "1831402058176\n"
     ]
    }
   ],
   "source": [
    "#deep copy\n",
    "import copy\n",
    "x = [[1,2,3]]\n",
    "y =  copy.deepcopy(x)\n",
    "x[0].append(10)\n",
    "print(y)  # [1,2,3]\n",
    "print(x)  #[1,2,3,10]\n",
    "print(id(x))\n",
    "print(id(y))"
   ]
  },
  {
   "cell_type": "code",
   "execution_count": null,
   "id": "00be6055",
   "metadata": {},
   "outputs": [],
   "source": []
  }
 ],
 "metadata": {
  "kernelspec": {
   "display_name": "Python 3 (ipykernel)",
   "language": "python",
   "name": "python3"
  },
  "language_info": {
   "codemirror_mode": {
    "name": "ipython",
    "version": 3
   },
   "file_extension": ".py",
   "mimetype": "text/x-python",
   "name": "python",
   "nbconvert_exporter": "python",
   "pygments_lexer": "ipython3",
   "version": "3.10.9"
  }
 },
 "nbformat": 4,
 "nbformat_minor": 5
}
