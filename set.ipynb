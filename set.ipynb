{
 "cells": [
  {
   "cell_type": "markdown",
   "id": "22eed6fb",
   "metadata": {},
   "source": [
    "## Set ----->  {}\n",
    "- set is a collection unique elements.\n",
    "- set is unordered.\n",
    "- set is unindexed.\n",
    "- set is immutable."
   ]
  },
  {
   "cell_type": "code",
   "execution_count": 1,
   "id": "f4763451",
   "metadata": {},
   "outputs": [
    {
     "name": "stdout",
     "output_type": "stream",
     "text": [
      "{'hello', 1, 2.5, 'hi'}\n"
     ]
    }
   ],
   "source": [
    "x = {1,\"hello\",2.5,'hi',1,1,1}\n",
    "print(x)"
   ]
  },
  {
   "cell_type": "code",
   "execution_count": 3,
   "id": "b0acfd1d",
   "metadata": {},
   "outputs": [
    {
     "name": "stdout",
     "output_type": "stream",
     "text": [
      "{33, 11, 44, 22}\n"
     ]
    }
   ],
   "source": [
    "x = {11,22,33,44}\n",
    "# x.add(78)\n",
    "x.add(33)\n",
    "print(x)"
   ]
  },
  {
   "cell_type": "code",
   "execution_count": 4,
   "id": "4c4d90a2",
   "metadata": {},
   "outputs": [
    {
     "name": "stdout",
     "output_type": "stream",
     "text": [
      "{33, 66, 22, 55, 11, 44, 77}\n"
     ]
    }
   ],
   "source": [
    "x = {11,22,33,44}\n",
    "\n",
    "x.update({55,66,77})\n",
    "\n",
    "print(x)"
   ]
  },
  {
   "cell_type": "code",
   "execution_count": 7,
   "id": "e29dd6e6",
   "metadata": {},
   "outputs": [
    {
     "name": "stdout",
     "output_type": "stream",
     "text": [
      "{33, 11, 44, 22}\n",
      "{33, 66, 22, 55, 11, 44, 77}\n"
     ]
    }
   ],
   "source": [
    "x = {11,22,33,44}\n",
    "y ={55,66,77}\n",
    "\n",
    "# x.update(y)\n",
    "z = x.union(y)\n",
    "\n",
    "print(x)\n",
    "print(z)"
   ]
  },
  {
   "cell_type": "code",
   "execution_count": 10,
   "id": "041c59dd",
   "metadata": {},
   "outputs": [
    {
     "name": "stdout",
     "output_type": "stream",
     "text": [
      "{2, 3}\n",
      "{2, 3, 5, 6}\n",
      "{1, 4}\n"
     ]
    }
   ],
   "source": [
    "x = {1,2,3,4}\n",
    "y ={1,5,6,4}\n",
    "\n",
    "z = x.difference(y)\n",
    "f = x.symmetric_difference(y)\n",
    "c = x.intersection(y)\n",
    "print(z)\n",
    "print(f)\n",
    "print(c)"
   ]
  },
  {
   "cell_type": "code",
   "execution_count": 19,
   "id": "e7b335b0",
   "metadata": {},
   "outputs": [
    {
     "name": "stdout",
     "output_type": "stream",
     "text": [
      "{1155, 22, 55, 441, 3113, 11}\n"
     ]
    }
   ],
   "source": [
    "x = {11,22,3113,441,1155,545,55,55}\n",
    "\n",
    "# x.remove(55)\n",
    "# x.remove(66)\n",
    "# x.discard(55)\n",
    "# x.discard(66)\n",
    "# del x\n",
    "# x.clear()\n",
    "x.pop()\n",
    "print(x)\n"
   ]
  },
  {
   "cell_type": "code",
   "execution_count": 17,
   "id": "a4b87cb6",
   "metadata": {},
   "outputs": [
    {
     "name": "stdout",
     "output_type": "stream",
     "text": [
      "{1, 2, 4}\n"
     ]
    }
   ],
   "source": [
    "z = set()\n",
    "z.add(4)\n",
    "print(z)"
   ]
  },
  {
   "cell_type": "code",
   "execution_count": 20,
   "id": "ca3bfbeb",
   "metadata": {},
   "outputs": [
    {
     "name": "stdout",
     "output_type": "stream",
     "text": [
      "[11, 22, 33, 44, 55, 66]\n"
     ]
    }
   ],
   "source": [
    "x = [11,22,33,44,44,55,66,11]\n",
    "\n",
    "# z = [11,22,33,44,55,66]\n",
    "z = []\n",
    "for i in x:\n",
    "    if i not in z:\n",
    "        z.append(i)\n",
    "print(z)"
   ]
  },
  {
   "cell_type": "code",
   "execution_count": 21,
   "id": "90c7e820",
   "metadata": {},
   "outputs": [
    {
     "name": "stdout",
     "output_type": "stream",
     "text": [
      "[33, 66, 11, 44, 22, 55]\n"
     ]
    }
   ],
   "source": [
    "x = [11,22,33,44,44,55,66,11]\n",
    "y = set(x)\n",
    "print(list(y))"
   ]
  },
  {
   "cell_type": "code",
   "execution_count": 26,
   "id": "53071fb3",
   "metadata": {},
   "outputs": [
    {
     "name": "stdout",
     "output_type": "stream",
     "text": [
      "[3]\n"
     ]
    }
   ],
   "source": [
    "x = [1,2,3]\n",
    "y = [1,2,4]\n",
    "\n",
    "# print(x-y)\n",
    "print(list(set(x)-set(y)))\n"
   ]
  },
  {
   "cell_type": "code",
   "execution_count": 29,
   "id": "5736b15c",
   "metadata": {},
   "outputs": [
    {
     "ename": "TypeError",
     "evalue": "'int' object is not iterable",
     "output_type": "error",
     "traceback": [
      "\u001b[1;31m---------------------------------------------------------------------------\u001b[0m",
      "\u001b[1;31mTypeError\u001b[0m                                 Traceback (most recent call last)",
      "Cell \u001b[1;32mIn[29], line 3\u001b[0m\n\u001b[0;32m      1\u001b[0m \u001b[38;5;66;03m# z =  \"ab c\"\u001b[39;00m\n\u001b[0;32m      2\u001b[0m u \u001b[38;5;241m=\u001b[39m \u001b[38;5;241m123\u001b[39m\n\u001b[1;32m----> 3\u001b[0m y \u001b[38;5;241m=\u001b[39m \u001b[38;5;28;43mset\u001b[39;49m\u001b[43m(\u001b[49m\u001b[43mu\u001b[49m\u001b[43m)\u001b[49m\n\u001b[0;32m      4\u001b[0m f \u001b[38;5;241m=\u001b[39m \u001b[38;5;28mlist\u001b[39m(u)\n\u001b[0;32m      5\u001b[0m \u001b[38;5;28mprint\u001b[39m(y)\n",
      "\u001b[1;31mTypeError\u001b[0m: 'int' object is not iterable"
     ]
    }
   ],
   "source": [
    "z =  \"abc\"\n",
    "\n",
    "y = set(u)\n",
    "f = list(u)\n",
    "print(y)\n",
    "print(f)"
   ]
  },
  {
   "cell_type": "code",
   "execution_count": null,
   "id": "f0781e67",
   "metadata": {},
   "outputs": [],
   "source": []
  }
 ],
 "metadata": {
  "kernelspec": {
   "display_name": "Python 3 (ipykernel)",
   "language": "python",
   "name": "python3"
  },
  "language_info": {
   "codemirror_mode": {
    "name": "ipython",
    "version": 3
   },
   "file_extension": ".py",
   "mimetype": "text/x-python",
   "name": "python",
   "nbconvert_exporter": "python",
   "pygments_lexer": "ipython3",
   "version": "3.10.9"
  }
 },
 "nbformat": 4,
 "nbformat_minor": 5
}
