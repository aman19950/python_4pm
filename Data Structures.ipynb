{
 "cells": [
  {
   "cell_type": "markdown",
   "id": "c4ad3261",
   "metadata": {},
   "source": [
    "## List and Tuple\n",
    "\n",
    "- list is a collection different data types (same in tuple).\n",
    "- list is ordered (same in tuple).\n",
    "- list is indexed (same in tuple).\n",
    "- repeative elements can be allowed in list and tuple also.\n",
    "- list is <b>mutable</b> and tuple is <b>Immutable</b>"
   ]
  },
  {
   "cell_type": "code",
   "execution_count": 1,
   "id": "3ddceff4",
   "metadata": {},
   "outputs": [
    {
     "name": "stdout",
     "output_type": "stream",
     "text": [
      "[11, 'hello', 4.5, True, 'hi', 11, 11, 11]\n"
     ]
    }
   ],
   "source": [
    "x = [11, \"hello\", 4.5, True, 'hi',11,11,11]\n",
    "print(x)"
   ]
  },
  {
   "cell_type": "code",
   "execution_count": 2,
   "id": "16ab8ffe",
   "metadata": {},
   "outputs": [
    {
     "name": "stdout",
     "output_type": "stream",
     "text": [
      "True\n"
     ]
    }
   ],
   "source": [
    "print(x[3])"
   ]
  },
  {
   "cell_type": "code",
   "execution_count": 3,
   "id": "377f27a9",
   "metadata": {},
   "outputs": [
    {
     "name": "stdout",
     "output_type": "stream",
     "text": [
      "[11, 'hello', 1000, True, 'hi', 11, 11, 11]\n"
     ]
    }
   ],
   "source": [
    "x[2] = 1000\n",
    "print(x)"
   ]
  },
  {
   "cell_type": "code",
   "execution_count": 4,
   "id": "9893b477",
   "metadata": {},
   "outputs": [
    {
     "name": "stdout",
     "output_type": "stream",
     "text": [
      "[22, 33, 44, 55]\n"
     ]
    }
   ],
   "source": [
    "x = [11,22,33,44,55,66]\n",
    "print(x[1:5])"
   ]
  },
  {
   "cell_type": "code",
   "execution_count": 9,
   "id": "6870d428",
   "metadata": {},
   "outputs": [
    {
     "name": "stdout",
     "output_type": "stream",
     "text": [
      "[11, 1000, 200, 23, 54, 234, 23435, 35, 66]\n"
     ]
    }
   ],
   "source": [
    "x = [11,22,33,44,55,66]\n",
    "# x[1] = 1000\n",
    "x[1:5] = [1000,200,23,54,234,23435,35]\n",
    "print(x)"
   ]
  },
  {
   "cell_type": "code",
   "execution_count": 10,
   "id": "8da5e53b",
   "metadata": {},
   "outputs": [
    {
     "name": "stdout",
     "output_type": "stream",
     "text": [
      "[11, 22, 33, 'hello', 55, 66]\n"
     ]
    }
   ],
   "source": [
    "x = [11,22,33,44,55,66]\n",
    "x[3] = \"hello\"\n",
    "print(x)"
   ]
  },
  {
   "cell_type": "code",
   "execution_count": 13,
   "id": "c6083bd8",
   "metadata": {},
   "outputs": [
    {
     "name": "stdout",
     "output_type": "stream",
     "text": [
      "[1, 2, 3, 1, 2, 3, 1, 2, 3]\n",
      "[1, 2, 3, 4, 5, 6]\n"
     ]
    }
   ],
   "source": [
    "x = [1,2,3] * 3\n",
    "y = [1,2,3] + [4,5,6]\n",
    "# z = [1,2,3] - [4,5,6]     # error\n",
    "print(x)   \n",
    "print(y)\n",
    "# print(z)"
   ]
  },
  {
   "cell_type": "markdown",
   "id": "da2696af",
   "metadata": {},
   "source": [
    "### Nested List"
   ]
  },
  {
   "cell_type": "code",
   "execution_count": 22,
   "id": "50fdcebf",
   "metadata": {},
   "outputs": [
    {
     "name": "stdout",
     "output_type": "stream",
     "text": [
      "8\n"
     ]
    }
   ],
   "source": [
    "x = [1, 2, [3, 4, 5, [6, 7, 8, 9], 10, 11], 12]\n",
    "print(x[2][3][2])\n"
   ]
  },
  {
   "cell_type": "code",
   "execution_count": 21,
   "id": "918b5acd",
   "metadata": {},
   "outputs": [
    {
     "name": "stdout",
     "output_type": "stream",
     "text": [
      "['hello', 11, 22, 33, 44, 55]\n"
     ]
    }
   ],
   "source": [
    "x = [11, 22, 33, 44, 55]\n",
    "# x.append(6734)\n",
    "# x.append(\"hello\")\n",
    "x.insert(0,\"hello\")\n",
    "x.extend([22,32,2323,2323])\n",
    "print(x)"
   ]
  },
  {
   "cell_type": "code",
   "execution_count": 1,
   "id": "5b6a2e40",
   "metadata": {},
   "outputs": [
    {
     "name": "stdout",
     "output_type": "stream",
     "text": [
      "[[1, 2, [3, 4, 5, 6], 7, 8, 2000, [9, 10, 11], 12]]\n"
     ]
    }
   ],
   "source": [
    "# x = [1, 2, [3, 4, 5, [6, 7, 8, 9], 10, 11], 12]\n",
    "\n",
    "# print(x[2][3][2])\n",
    "\n",
    "x = [[1, 2, [3, 4, 5, 6], 7, 8, [9, 10, 11], 12]]\n",
    "\n",
    "\n",
    "# x = [[1, 2, [3, 4, 5, 6,1000], 7, 8, [9, 10, 11], 12]]\n",
    "# x[0][2].append(1000)\n",
    "# print(x)\n",
    "# x = [[1, 2, [3, 4, 5, 6], 7, 8,2000, [9, 10, 11], 12]]\n",
    "x[0].insert(5,2000)\n",
    "print(x)\n",
    "# x = [[1, 2, [3, 4, 5, 6,], 7, 8, [9, 10,3000, 11], 12]]"
   ]
  },
  {
   "cell_type": "code",
   "execution_count": 38,
   "id": "06386cd1",
   "metadata": {},
   "outputs": [
    {
     "name": "stdout",
     "output_type": "stream",
     "text": [
      "2179967596480\n",
      "2179967596480\n",
      "2179967596480\n",
      "[[23], [23], [23]]\n"
     ]
    }
   ],
   "source": [
    "# x = [1,2,3] * 3\n",
    "x = [ [] ] * 3\n",
    "# x[2].append(100)\n",
    "print(id(x[0]))\n",
    "print(id(x[1]))\n",
    "print(id(x[2]))\n",
    "x[0].append(23)\n",
    "print(x)"
   ]
  },
  {
   "cell_type": "code",
   "execution_count": 39,
   "id": "32b8929c",
   "metadata": {},
   "outputs": [
    {
     "name": "stdout",
     "output_type": "stream",
     "text": [
      "[[100], [], []]\n"
     ]
    }
   ],
   "source": [
    "x = [[],[],[] ]\n",
    "x[0].append(100)\n",
    "print(x)"
   ]
  },
  {
   "cell_type": "code",
   "execution_count": 41,
   "id": "00e1a12e",
   "metadata": {},
   "outputs": [
    {
     "name": "stdout",
     "output_type": "stream",
     "text": [
      "<class 'list'>\n"
     ]
    }
   ],
   "source": [
    "x = [1,2,3] \n",
    "print(type(x))"
   ]
  },
  {
   "cell_type": "code",
   "execution_count": 4,
   "id": "263d5a4f",
   "metadata": {},
   "outputs": [
    {
     "name": "stdout",
     "output_type": "stream",
     "text": [
      "[1, 2, [3, 4, 1000, [5, 6, 7, 8], 9, 10], 11, 12]\n"
     ]
    }
   ],
   "source": [
    "x = [1, 2, [3, 4 ,[5, 6, 7, 8], 9, 10], 11, 12]\n",
    "\n",
    "# y = x[2]\n",
    "# print(y)\n",
    "\n",
    "# y.insert(2,1000)\n",
    "# print(y)\n",
    "\n",
    "x[2].insert(2,1000)\n",
    "print(x)\n",
    "# x = [1, 2, [3, 4 ,1000,[5, 6, 7, 8], 9, 10], 11, 12]"
   ]
  },
  {
   "cell_type": "code",
   "execution_count": 7,
   "id": "83f5cdc0",
   "metadata": {},
   "outputs": [
    {
     "name": "stdout",
     "output_type": "stream",
     "text": [
      "1\n",
      "55\n",
      "221\n",
      "[55, 44, 33, 32, 23, 22, 11, 1]\n"
     ]
    }
   ],
   "source": [
    "x = [11, 22,33,44,55,1,23,32]\n",
    "\n",
    "\n",
    "print(min(x))\n",
    "print(max(x))\n",
    "print(sum(x))\n",
    "x.sort()\n",
    "x.sort(reverse = True)\n",
    "print(x)"
   ]
  },
  {
   "cell_type": "code",
   "execution_count": 8,
   "id": "844234d3",
   "metadata": {},
   "outputs": [
    {
     "name": "stdout",
     "output_type": "stream",
     "text": [
      "bye\n",
      "hi\n",
      "['bye', 'hello', 'hi']\n"
     ]
    }
   ],
   "source": [
    "x = [\"hello\",\"hi\",\"bye\"]\n",
    "\n",
    "\n",
    "print(min(x))\n",
    "print(max(x))\n",
    "# print(sum(x))\n",
    "x.sort()\n",
    "# x.sort(reverse = True)\n",
    "print(x)"
   ]
  },
  {
   "cell_type": "code",
   "execution_count": 9,
   "id": "0d49ae1b",
   "metadata": {},
   "outputs": [
    {
     "ename": "TypeError",
     "evalue": "'str' object does not support item assignment",
     "output_type": "error",
     "traceback": [
      "\u001b[1;31m---------------------------------------------------------------------------\u001b[0m",
      "\u001b[1;31mTypeError\u001b[0m                                 Traceback (most recent call last)",
      "Cell \u001b[1;32mIn[9], line 2\u001b[0m\n\u001b[0;32m      1\u001b[0m x \u001b[38;5;241m=\u001b[39m \u001b[38;5;124m\"\u001b[39m\u001b[38;5;124msnow world\u001b[39m\u001b[38;5;124m\"\u001b[39m\n\u001b[1;32m----> 2\u001b[0m x[\u001b[38;5;241m3\u001b[39m] \u001b[38;5;241m=\u001b[39m \u001b[38;5;124m\"\u001b[39m\u001b[38;5;124ms\u001b[39m\u001b[38;5;124m\"\u001b[39m\n\u001b[0;32m      3\u001b[0m \u001b[38;5;28mprint\u001b[39m(x)\n",
      "\u001b[1;31mTypeError\u001b[0m: 'str' object does not support item assignment"
     ]
    }
   ],
   "source": [
    "x = \"snow world\"\n",
    "x[3] = \"s\"\n",
    "print(x)"
   ]
  },
  {
   "cell_type": "code",
   "execution_count": 10,
   "id": "cc968ed2",
   "metadata": {},
   "outputs": [
    {
     "name": "stdout",
     "output_type": "stream",
     "text": [
      "[11, 22, 33, 100]\n"
     ]
    }
   ],
   "source": [
    "x = [11,22,33]\n",
    "x.append(100)\n",
    "print(x)"
   ]
  },
  {
   "cell_type": "code",
   "execution_count": 19,
   "id": "82aa21ef",
   "metadata": {},
   "outputs": [
    {
     "name": "stdout",
     "output_type": "stream",
     "text": [
      "[]\n"
     ]
    }
   ],
   "source": [
    "x = [11,22,33,44,55,33,33,44]\n",
    "# x.remove(33)\n",
    "# del x\n",
    "# del x[4]\n",
    "# del x[1:4]\n",
    "# z = x.pop()\n",
    "# z = x.pop(2)\n",
    "x.clear()\n",
    "print(x)\n",
    "# print(z)"
   ]
  },
  {
   "cell_type": "code",
   "execution_count": 22,
   "id": "db9d9206",
   "metadata": {},
   "outputs": [
    {
     "name": "stdout",
     "output_type": "stream",
     "text": [
      "8\n",
      "4\n",
      "3\n"
     ]
    }
   ],
   "source": [
    "x = [11,22,33,44,55,33,33,44]\n",
    "print(len(x))\n",
    "print(x.index(55))\n",
    "print(x.count(33))"
   ]
  },
  {
   "cell_type": "code",
   "execution_count": 24,
   "id": "8e61875e",
   "metadata": {},
   "outputs": [
    {
     "name": "stdout",
     "output_type": "stream",
     "text": [
      "present\n",
      "present\n"
     ]
    }
   ],
   "source": [
    "x = [11,22,33,44,55]\n",
    "\n",
    "if 33 in x:\n",
    "    print(\"present\")\n",
    "else:\n",
    "    print(\"not present\")\n",
    "    \n",
    "if 33 not in x:\n",
    "    print(\"not present\")\n",
    "else:\n",
    "    print(\"present\")"
   ]
  },
  {
   "cell_type": "code",
   "execution_count": 27,
   "id": "03dd41d4",
   "metadata": {},
   "outputs": [
    {
     "name": "stdout",
     "output_type": "stream",
     "text": [
      "True\n",
      "False\n",
      "2294720353408\n",
      "2294685534528\n"
     ]
    }
   ],
   "source": [
    "x = [1,2,3]\n",
    "y = [1,23,3]\n",
    "\n",
    "print(x == y)\n",
    "print(x is y)\n",
    "print(id(x))\n",
    "print(id(y))"
   ]
  },
  {
   "cell_type": "code",
   "execution_count": 30,
   "id": "17d73b50",
   "metadata": {},
   "outputs": [
    {
     "name": "stdout",
     "output_type": "stream",
     "text": [
      "hello\n",
      "hi\n",
      "hey\n",
      "0 --- hello\n",
      "1 --- hi\n",
      "2 --- hey\n"
     ]
    }
   ],
   "source": [
    "x = [\"hello\",\"hi\",\"hey\"]\n",
    "\n",
    "for i in x:\n",
    "    print(i)\n",
    "    \n",
    "for i in range(len(x)):\n",
    "    print(i,\"---\",x[i])"
   ]
  },
  {
   "cell_type": "code",
   "execution_count": 34,
   "id": "de718b80",
   "metadata": {},
   "outputs": [
    {
     "name": "stdout",
     "output_type": "stream",
     "text": [
      "[55, 21, 6, 5, 4, 3, 1]\n",
      "1155\n"
     ]
    }
   ],
   "source": [
    "## wap to multiply top two elements from  the given list\n",
    "x = [1,21,3,4,55,5,6]\n",
    "x.sort(reverse = True)\n",
    "print(x)\n",
    "print(x[0]*x[1])"
   ]
  },
  {
   "cell_type": "code",
   "execution_count": 36,
   "id": "dc53507e",
   "metadata": {},
   "outputs": [
    {
     "name": "stdout",
     "output_type": "stream",
     "text": [
      "sum =  15\n",
      "mul =  120\n"
     ]
    }
   ],
   "source": [
    "# wap to sum and multiply all elements from each other from the given \n",
    "x = [1,2,3,4,5]\n",
    "\n",
    "sum = 0\n",
    "mul = 1\n",
    "for i in x:\n",
    "    sum = sum + i\n",
    "    mul = mul * i\n",
    "    \n",
    "print(\"sum = \",sum)\n",
    "print(\"mul = \",mul)"
   ]
  },
  {
   "cell_type": "markdown",
   "id": "8abbb600",
   "metadata": {},
   "source": [
    "### wap to remove all 33 from the list\n"
   ]
  },
  {
   "cell_type": "code",
   "execution_count": 45,
   "id": "17eef6cd",
   "metadata": {},
   "outputs": [
    {
     "name": "stdout",
     "output_type": "stream",
     "text": [
      "[11, 22, 44, 55, 44]\n",
      "[11, 22, 33, 44, 55, 33, 33, 44]\n"
     ]
    }
   ],
   "source": [
    "x = [11,22,33,44,55,33,33,44]\n",
    "\n",
    "# output:-\n",
    "# z = [11,22,44,55,44]\n",
    "z = []\n",
    "for i in x:\n",
    "    if i == 33:\n",
    "        continue\n",
    "    z.append(i)\n",
    "print(z)\n"
   ]
  },
  {
   "cell_type": "code",
   "execution_count": 47,
   "id": "ddc3b1e7",
   "metadata": {},
   "outputs": [
    {
     "name": "stdout",
     "output_type": "stream",
     "text": [
      "[11, 22, 44, 55, 44, 33]\n"
     ]
    }
   ],
   "source": [
    "x = [11,22,33,44,55,33,33,44,33]\n",
    "\n",
    "z = []\n",
    "for i in x:\n",
    "    if i == 33:\n",
    "        x.remove(33)\n",
    "print(x)"
   ]
  },
  {
   "cell_type": "code",
   "execution_count": 48,
   "id": "bb8127b0",
   "metadata": {},
   "outputs": [
    {
     "name": "stdout",
     "output_type": "stream",
     "text": [
      "[11, 22, 44, 55, 44]\n"
     ]
    }
   ],
   "source": [
    "x = [11,22,33,44,55,33,33,44,33]\n",
    "\n",
    "while 33 in x:\n",
    "    x.remove(33)\n",
    "print(x)"
   ]
  },
  {
   "cell_type": "code",
   "execution_count": 55,
   "id": "4fb95ac1",
   "metadata": {},
   "outputs": [
    {
     "name": "stdout",
     "output_type": "stream",
     "text": [
      "[0, 1, 4, 9, 16]\n"
     ]
    }
   ],
   "source": [
    "c = [ (i*i) for i in range(5)]\n",
    "print(c)"
   ]
  },
  {
   "cell_type": "code",
   "execution_count": 56,
   "id": "79da88ef",
   "metadata": {},
   "outputs": [
    {
     "name": "stdout",
     "output_type": "stream",
     "text": [
      "[11, 22, 44, 55, 44]\n"
     ]
    }
   ],
   "source": [
    "x = [11,22,33,44,55,33,33,44,33]\n",
    "z = [ i  for i in x if i != 33 ]\n",
    "print(z)"
   ]
  },
  {
   "cell_type": "code",
   "execution_count": 57,
   "id": "4f179a30",
   "metadata": {},
   "outputs": [
    {
     "name": "stdout",
     "output_type": "stream",
     "text": [
      "['hello sonu', 'hello monu', 'hi sonu', 'hi monu']\n"
     ]
    }
   ],
   "source": [
    "x = [\"hello\",\"hi\"]\n",
    "y = [\"sonu\",\"monu\"]\n",
    "\n",
    "# z = [\"hello sonu\",\"hello monu\",\"hi sonu\",\"hi monu\"]\n",
    "z = []\n",
    "for i in x:\n",
    "    for j in y:\n",
    "        z.append(i+\" \"+j)\n",
    "        \n",
    "print(z)"
   ]
  },
  {
   "cell_type": "code",
   "execution_count": 1,
   "id": "9d61c6af",
   "metadata": {},
   "outputs": [
    {
     "name": "stdout",
     "output_type": "stream",
     "text": [
      "['hello sonu', 'hello monu', 'hi sonu', 'hi monu', 'hey sonu', 'hey monu']\n"
     ]
    }
   ],
   "source": [
    "x = [\"hello\",\"hi\",\"hey\"]\n",
    "y = [\"sonu\",\"monu\"]\n",
    "\n",
    "\n",
    "z = [i+\" \"+j for i in x for j in y]\n",
    "print(z)"
   ]
  },
  {
   "cell_type": "code",
   "execution_count": 60,
   "id": "1af7c79a",
   "metadata": {},
   "outputs": [
    {
     "name": "stdout",
     "output_type": "stream",
     "text": [
      "enter a number = 564\n",
      "564 is not a perfect number\n"
     ]
    }
   ],
   "source": [
    "x = int(input(\"enter a number = \"))\n",
    "\n",
    "c = 0\n",
    "for i in range(1,x):\n",
    "    if(x % i == 0):\n",
    "        c = c + i\n",
    "        \n",
    "        \n",
    "if x == c:\n",
    "    print( x,\"is a perfect number\")\n",
    "    \n",
    "else:\n",
    "    print(x,\"is not a perfect number\")"
   ]
  },
  {
   "cell_type": "code",
   "execution_count": null,
   "id": "fd9e9d9c",
   "metadata": {},
   "outputs": [],
   "source": []
  }
 ],
 "metadata": {
  "kernelspec": {
   "display_name": "Python 3 (ipykernel)",
   "language": "python",
   "name": "python3"
  },
  "language_info": {
   "codemirror_mode": {
    "name": "ipython",
    "version": 3
   },
   "file_extension": ".py",
   "mimetype": "text/x-python",
   "name": "python",
   "nbconvert_exporter": "python",
   "pygments_lexer": "ipython3",
   "version": "3.10.9"
  }
 },
 "nbformat": 4,
 "nbformat_minor": 5
}
