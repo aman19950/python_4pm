{
 "cells": [
  {
   "cell_type": "code",
   "execution_count": 2,
   "id": "9f6e219a",
   "metadata": {},
   "outputs": [
    {
     "name": "stdout",
     "output_type": "stream",
     "text": [
      "0\n",
      "1\n",
      "2\n"
     ]
    }
   ],
   "source": [
    "# Q1\n",
    "i = 0\n",
    "while(i<=5):\n",
    "    if i ==3:\n",
    "        break\n",
    "    print(i)\n",
    "    i=i+1\n",
    "else:\n",
    "    print(\"bye\")"
   ]
  },
  {
   "cell_type": "code",
   "execution_count": 4,
   "id": "6d0fb0bd",
   "metadata": {},
   "outputs": [
    {
     "name": "stdout",
     "output_type": "stream",
     "text": [
      "abcd\n",
      "abcd\n",
      "abcd\n",
      "abcd\n"
     ]
    }
   ],
   "source": [
    "x = \"abcd\"\n",
    "for i in x:\n",
    "    i.upper()\n",
    "    print(x)"
   ]
  },
  {
   "cell_type": "code",
   "execution_count": 7,
   "id": "d5da4c65",
   "metadata": {},
   "outputs": [
    {
     "name": "stdout",
     "output_type": "stream",
     "text": [
      "['Mon, Tue, Wed, Thr, Fri, Sat, Sun']\n"
     ]
    }
   ],
   "source": [
    "# Q3\n",
    "x = [\"Mon, Tue, Wed, Thr, Fri, Sat, Sun\"]\n",
    "print(x[::])"
   ]
  },
  {
   "cell_type": "code",
   "execution_count": 8,
   "id": "a2864cf9",
   "metadata": {},
   "outputs": [
    {
     "name": "stdout",
     "output_type": "stream",
     "text": [
      "B is greater\n"
     ]
    }
   ],
   "source": [
    "a = 13\n",
    "b = 15\n",
    " \n",
    "if a > b:\n",
    "    print(\"A is greater\")\n",
    "else:\n",
    "    if a == b:\n",
    "        print(\"=\")\n",
    "    else: \n",
    "        print(\"B is greater\")\n"
   ]
  },
  {
   "cell_type": "code",
   "execution_count": 9,
   "id": "bf8273a6",
   "metadata": {},
   "outputs": [
    {
     "name": "stdout",
     "output_type": "stream",
     "text": [
      "[2, 3, 4, 6, 7]\n"
     ]
    }
   ],
   "source": [
    "nums = [1, 2, 3, 4, 5]\n",
    "nums = nums[1:4] + [6, 7]\n",
    "print(nums)\n",
    "\n",
    "# A) [1, 2, 3, 4, 5, 6, 7]\n",
    "# B) [2, 3, 4, 6, 7]\n",
    "# C) [2, 3, 4, 5, 6, 7]\n",
    "# D) [1, 2, 3, 4, 6, 7]\n"
   ]
  },
  {
   "cell_type": "code",
   "execution_count": null,
   "id": "1108348c",
   "metadata": {},
   "outputs": [],
   "source": [
    "list1 = [1,2,3,4]\n",
    "list2 = [2,4,5,6]\n",
    "list3 = [2,6,7,8]\n",
    "result = list()\n",
    "\n",
    "result.extend(i for i in list1 if i not in (list2+list3) and i not in result)\n",
    "result.extend(i for i in list2 if i not in (list1+list3) and i not in result)\n",
    "result.extend(i for i in list3 if i not in (list1+list2) and i not in result)\n",
    "\n",
    "# a) [1, 3, 5, 7, 8]\n",
    "# b) [1, 7, 8]\n",
    "# c) [1, 2, 4, 7, 8]\n",
    "# d) error"
   ]
  },
  {
   "cell_type": "code",
   "execution_count": null,
   "id": "785a9bdf",
   "metadata": {},
   "outputs": [],
   "source": [
    "which of the following is the proper syntax to check if a particular\n",
    "element is present in a list?\n",
    "\n",
    "# a) if ele in list\n",
    "# b) if not ele not in list\n",
    "# c) both a and b\n",
    "# d) None of the above"
   ]
  },
  {
   "cell_type": "code",
   "execution_count": 10,
   "id": "44cdd936",
   "metadata": {},
   "outputs": [
    {
     "name": "stdout",
     "output_type": "stream",
     "text": [
      "pYtHoN PrOgRaMmInG\n"
     ]
    }
   ],
   "source": [
    "x = \"Python Programming\"\n",
    "n = len(word)\n",
    " = word.upper()\n",
    "word2 = word.lower()\n",
    "converted_word = \"\"\n",
    "for i in range(n):\n",
    "    if i % 2 == 0:\n",
    "        converted_word += word2[i]\n",
    "    else:\n",
    "        converted_word += word1[i]\n",
    "print(converted_word)\n",
    "# a. pYtHoN PrOgRaMmInG\n",
    "# b. Python Programming\n",
    "# c. python programming\n",
    "# d. PYTHON PROGRAMMING"
   ]
  },
  {
   "cell_type": "code",
   "execution_count": 11,
   "id": "8d58bbc8",
   "metadata": {},
   "outputs": [
    {
     "name": "stdout",
     "output_type": "stream",
     "text": [
      "[1, 2]\n"
     ]
    }
   ],
   "source": [
    "a = [1, 2, 3, 4]\n",
    "b = [3, 4, 5, 6]\n",
    "c = [i for i in a if i not in b]\n",
    "print(c)\n",
    "\n",
    "# a. [1, 2]\n",
    "# b. [5, 6]\n",
    "# c. [1, 2, 5, 6]\n",
    "# d. [3, 4]"
   ]
  },
  {
   "cell_type": "code",
   "execution_count": null,
   "id": "b8ce58b6",
   "metadata": {},
   "outputs": [],
   "source": []
  }
 ],
 "metadata": {
  "kernelspec": {
   "display_name": "Python 3 (ipykernel)",
   "language": "python",
   "name": "python3"
  },
  "language_info": {
   "codemirror_mode": {
    "name": "ipython",
    "version": 3
   },
   "file_extension": ".py",
   "mimetype": "text/x-python",
   "name": "python",
   "nbconvert_exporter": "python",
   "pygments_lexer": "ipython3",
   "version": "3.10.9"
  }
 },
 "nbformat": 4,
 "nbformat_minor": 5
}
