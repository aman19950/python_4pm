{
 "cells": [
  {
   "cell_type": "code",
   "execution_count": 1,
   "id": "09e1e3f3",
   "metadata": {},
   "outputs": [],
   "source": [
    "def xyz(x,y):\n",
    "    z =  x + y\n",
    "    return z"
   ]
  },
  {
   "cell_type": "code",
   "execution_count": 2,
   "id": "0bd50122",
   "metadata": {},
   "outputs": [],
   "source": [
    "x = [123,345,56,67,8]"
   ]
  },
  {
   "cell_type": "code",
   "execution_count": null,
   "id": "0303895e",
   "metadata": {},
   "outputs": [],
   "source": [
    "y = {'a':12,'b':67}"
   ]
  }
 ],
 "metadata": {
  "kernelspec": {
   "display_name": "Python 3 (ipykernel)",
   "language": "python",
   "name": "python3"
  },
  "language_info": {
   "codemirror_mode": {
    "name": "ipython",
    "version": 3
   },
   "file_extension": ".py",
   "mimetype": "text/x-python",
   "name": "python",
   "nbconvert_exporter": "python",
   "pygments_lexer": "ipython3",
   "version": "3.10.9"
  }
 },
 "nbformat": 4,
 "nbformat_minor": 5
}
