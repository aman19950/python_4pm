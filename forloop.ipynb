{
 "cells": [
  {
   "cell_type": "code",
   "execution_count": 2,
   "id": "360d8079",
   "metadata": {},
   "outputs": [
    {
     "name": "stdout",
     "output_type": "stream",
     "text": [
      "1 3 5 7 9 "
     ]
    }
   ],
   "source": [
    "for i in range(1,10,2):            #range(start,stop,step)\n",
    "    print(i,end=\" \")"
   ]
  },
  {
   "cell_type": "code",
   "execution_count": 3,
   "id": "0de8f7a7",
   "metadata": {},
   "outputs": [
    {
     "name": "stdout",
     "output_type": "stream",
     "text": [
      "1 2 3 4 5 6 7 8 9 "
     ]
    }
   ],
   "source": [
    "for i in range(1,10):            #range(start,stop,step = 1)\n",
    "    print(i,end=\" \")"
   ]
  },
  {
   "cell_type": "code",
   "execution_count": 4,
   "id": "4f712dbb",
   "metadata": {},
   "outputs": [
    {
     "name": "stdout",
     "output_type": "stream",
     "text": [
      "0 1 2 3 4 5 6 7 8 9 "
     ]
    }
   ],
   "source": [
    "for i in range(10):            #range(start=0,stop,step = 1)\n",
    "    print(i,end=\" \")"
   ]
  },
  {
   "cell_type": "code",
   "execution_count": 6,
   "id": "82c8d356",
   "metadata": {},
   "outputs": [
    {
     "name": "stdout",
     "output_type": "stream",
     "text": [
      "2 4 6 8 10 12 14 16 18 20 22 24 26 28 30 32 34 36 38 40 42 44 46 48 50 52 54 56 58 60 62 64 66 68 70 72 74 76 78 80 82 84 86 88 90 92 94 96 98 100 "
     ]
    }
   ],
   "source": [
    "for i in range(2,101,2):            #range(start=0,stop,step = 1)\n",
    "    print(i,end=\" \")"
   ]
  },
  {
   "cell_type": "code",
   "execution_count": 8,
   "id": "3520f339",
   "metadata": {},
   "outputs": [
    {
     "name": "stdout",
     "output_type": "stream",
     "text": [
      "10 9 8 7 6 5 4 3 2 1 "
     ]
    }
   ],
   "source": [
    "for i in range(10,0,-1):\n",
    "    print(i,end=\" \")"
   ]
  },
  {
   "cell_type": "code",
   "execution_count": 9,
   "id": "731fefc2",
   "metadata": {},
   "outputs": [
    {
     "name": "stdout",
     "output_type": "stream",
     "text": [
      "-10 -9 -8 -7 -6 -5 -4 -3 -2 -1 "
     ]
    }
   ],
   "source": [
    "for i in range(-10,0):\n",
    "    print(i,end=\" \")"
   ]
  },
  {
   "cell_type": "code",
   "execution_count": 15,
   "id": "36ba17e6",
   "metadata": {},
   "outputs": [
    {
     "name": "stdout",
     "output_type": "stream",
     "text": [
      "0 ---- h\n",
      "1 ---- e\n",
      "2 ---- l\n",
      "3 ---- l\n",
      "4 ---- o\n"
     ]
    }
   ],
   "source": [
    "x = \"hello\"\n",
    "\n",
    "# print(x[0],x[1],x[2],x[3],x[4])\n",
    "\n",
    "# for i in x:\n",
    "#     print(i)\n",
    "    \n",
    "for i in range(len(x)):\n",
    "    print(i,\"----\",x[i])"
   ]
  },
  {
   "cell_type": "markdown",
   "id": "8880be84",
   "metadata": {},
   "source": [
    "### wap to calculate the factors of a input number"
   ]
  },
  {
   "cell_type": "code",
   "execution_count": 24,
   "id": "e571434c",
   "metadata": {},
   "outputs": [
    {
     "name": "stdout",
     "output_type": "stream",
     "text": [
      "enter a number = 5\n",
      "the factor of  5 is = 1\n",
      "the factor of  5 is = 5\n",
      "Total Factors = 2\n"
     ]
    }
   ],
   "source": [
    "x = int(input(\"enter a number = \"))\n",
    "\n",
    "c = 0\n",
    "for i in range(1,x+1):\n",
    "    if(x % i == 0):\n",
    "        c = c + 1\n",
    "        print(\"the factor of \",x,\"is =\",i)\n",
    "        \n",
    "print(\"Total Factors =\",c)"
   ]
  },
  {
   "cell_type": "markdown",
   "id": "38a62950",
   "metadata": {},
   "source": [
    "### wap to swap two numbers"
   ]
  },
  {
   "cell_type": "code",
   "execution_count": 26,
   "id": "920b6b38",
   "metadata": {},
   "outputs": [
    {
     "name": "stdout",
     "output_type": "stream",
     "text": [
      "before swapping 5\n",
      "before swapping 6\n",
      "after swapping 6\n",
      "after swapping 5\n"
     ]
    }
   ],
   "source": [
    "x = 5\n",
    "y = 6\n",
    "\n",
    "print(\"before swapping\",x)\n",
    "print(\"before swapping\",y)\n",
    "\n",
    "temp = x\n",
    "x = y\n",
    "y = temp\n",
    "print(\"after swapping\",x)\n",
    "print(\"after swapping\",y)"
   ]
  },
  {
   "cell_type": "code",
   "execution_count": 27,
   "id": "1864c3d6",
   "metadata": {},
   "outputs": [
    {
     "name": "stdout",
     "output_type": "stream",
     "text": [
      "before swapping 5\n",
      "before swapping 6\n",
      "after swapping 6\n",
      "after swapping 5\n"
     ]
    }
   ],
   "source": [
    "x = 5\n",
    "y = 6\n",
    "\n",
    "print(\"before swapping\",x)\n",
    "print(\"before swapping\",y)\n",
    "\n",
    "x = x + y\n",
    "y =  x - y\n",
    "x = x - y\n",
    "print(\"after swapping\",x)\n",
    "print(\"after swapping\",y)"
   ]
  },
  {
   "cell_type": "code",
   "execution_count": 28,
   "id": "bf3ac42d",
   "metadata": {},
   "outputs": [
    {
     "name": "stdout",
     "output_type": "stream",
     "text": [
      "before swapping 5\n",
      "before swapping 6\n",
      "after swapping 6\n",
      "after swapping 5\n"
     ]
    }
   ],
   "source": [
    "x = 5\n",
    "y = 6\n",
    "\n",
    "print(\"before swapping\",x)\n",
    "print(\"before swapping\",y)\n",
    "\n",
    "x,y = y,x\n",
    "\n",
    "print(\"after swapping\",x)\n",
    "print(\"after swapping\",y)"
   ]
  },
  {
   "cell_type": "markdown",
   "id": "3c8a1199",
   "metadata": {},
   "source": [
    "### wap to print the factorial of input number"
   ]
  },
  {
   "cell_type": "code",
   "execution_count": 32,
   "id": "b2348b68",
   "metadata": {},
   "outputs": [
    {
     "name": "stdout",
     "output_type": "stream",
     "text": [
      "enter a number = 5\n",
      "the factorial of  5 is = 120\n"
     ]
    }
   ],
   "source": [
    "x = int(input(\"enter a number = \"))\n",
    "\n",
    "fact =  1\n",
    "for i in range(1,x+1):\n",
    "    fact = fact * i\n",
    "    \n",
    "print(\"the factorial of \",x,\"is =\",fact)"
   ]
  },
  {
   "cell_type": "code",
   "execution_count": 2,
   "id": "75da902f",
   "metadata": {},
   "outputs": [
    {
     "name": "stdout",
     "output_type": "stream",
     "text": [
      "enter a  1st number = 4\n",
      "enter a  2nd number = 6\n",
      "enter a  3rd number = 3\n",
      "6 is greater\n"
     ]
    }
   ],
   "source": [
    "x = int(input(\"enter a  1st number = \"))\n",
    "y = int(input(\"enter a  2nd number = \"))\n",
    "z = int(input(\"enter a  3rd number = \"))\n",
    "\n",
    "if x > y:\n",
    "    if x > z:\n",
    "        print(x,\"is greater\")\n",
    "    else:\n",
    "        print(z,\"is greater\")\n",
    "else:\n",
    "    if y > x:\n",
    "        if y > z:\n",
    "            print(y,\"is greater\")\n",
    "        else:\n",
    "            print(z,\"is greater\")"
   ]
  },
  {
   "cell_type": "code",
   "execution_count": 8,
   "id": "555f7729",
   "metadata": {},
   "outputs": [
    {
     "name": "stdout",
     "output_type": "stream",
     "text": [
      "you are how hello\n"
     ]
    }
   ],
   "source": [
    "x = \"hello how are you\"\n",
    "# y = x[ : : -1]\n",
    "y = x.split(\" \")\n",
    "print(\" \".join( y[::-1]))"
   ]
  },
  {
   "cell_type": "markdown",
   "id": "8a6bcd35",
   "metadata": {},
   "source": [
    "## while loop"
   ]
  },
  {
   "cell_type": "code",
   "execution_count": 8,
   "id": "ebca9fe6",
   "metadata": {},
   "outputs": [
    {
     "name": "stdout",
     "output_type": "stream",
     "text": [
      "0\n",
      "1\n",
      "2\n",
      "3\n",
      "4\n",
      "5\n",
      "bye\n"
     ]
    }
   ],
   "source": [
    "# i = 0\n",
    "# while(i<=5):\n",
    "#     print(i)\n",
    "#     i = i + 1\n",
    "    \n",
    "##----------------------\n",
    "i = 0\n",
    "while(i<=5):\n",
    "    print(i)\n",
    "    i = i + 1\n",
    "else:\n",
    "    print(\"bye\")"
   ]
  },
  {
   "cell_type": "markdown",
   "id": "c9584b0e",
   "metadata": {},
   "source": [
    "### wap to reverse a number ex - 1234 ->4321"
   ]
  },
  {
   "cell_type": "code",
   "execution_count": 3,
   "id": "7e6ba965",
   "metadata": {},
   "outputs": [
    {
     "name": "stdout",
     "output_type": "stream",
     "text": [
      "enter a number = 1234\n",
      "reversed number =  4321\n"
     ]
    }
   ],
   "source": [
    "x = int(input(\"enter a number = \"))\n",
    "rev = 0\n",
    "while(x > 0):\n",
    "    rem = x %10\n",
    "    rev = (rev * 10)+rem\n",
    "    x = x //10\n",
    "\n",
    "print(\"reversed number = \",rev)"
   ]
  },
  {
   "cell_type": "code",
   "execution_count": 5,
   "id": "5c44b1aa",
   "metadata": {},
   "outputs": [
    {
     "name": "stdout",
     "output_type": "stream",
     "text": [
      "enter a number = 1234\n",
      "not palindrome\n"
     ]
    }
   ],
   "source": [
    "x = int(input(\"enter a number = \"))\n",
    "rev = 0\n",
    "temp = x\n",
    "while(x > 0):\n",
    "    rem = x %10\n",
    "    rev = (rev * 10)+rem\n",
    "    x = x //10\n",
    "\n",
    "if rev == temp:\n",
    "    print(\"it is palindrome\")\n",
    "else:\n",
    "    print(\"not palindrome\")"
   ]
  },
  {
   "cell_type": "markdown",
   "id": "3674b6c9",
   "metadata": {},
   "source": [
    "## wap to print the fibbonacci series\n",
    "### 0 1 1 2 3 5 8 13..."
   ]
  },
  {
   "cell_type": "code",
   "execution_count": 6,
   "id": "ae9b3790",
   "metadata": {},
   "outputs": [
    {
     "name": "stdout",
     "output_type": "stream",
     "text": [
      "0\n",
      "1\n",
      "1\n",
      "2\n",
      "3\n",
      "5\n",
      "8\n"
     ]
    }
   ],
   "source": [
    "x = 0\n",
    "y = 1\n",
    "\n",
    "while(x < 10):\n",
    "    print(x)\n",
    "    x,y = y,x+y"
   ]
  },
  {
   "cell_type": "markdown",
   "id": "ce85e5ea",
   "metadata": {},
   "source": [
    "## Nested Loop"
   ]
  },
  {
   "cell_type": "code",
   "execution_count": 12,
   "id": "09b804e9",
   "metadata": {},
   "outputs": [
    {
     "name": "stdout",
     "output_type": "stream",
     "text": [
      "* \n",
      "* * \n",
      "* * * \n",
      "* * * * \n",
      "* * * * * \n"
     ]
    }
   ],
   "source": [
    "for i in range(1,6):              #outer loop\n",
    "    for j in range(1,i+1):        #inner loop\n",
    "        print(\"*\",end= \" \")\n",
    "    print()"
   ]
  },
  {
   "cell_type": "code",
   "execution_count": 13,
   "id": "89831f33",
   "metadata": {},
   "outputs": [
    {
     "name": "stdout",
     "output_type": "stream",
     "text": [
      "hello hello hello hello hello \n"
     ]
    }
   ],
   "source": [
    "print(\"hello \"*5)"
   ]
  },
  {
   "cell_type": "code",
   "execution_count": 14,
   "id": "f20448aa",
   "metadata": {},
   "outputs": [
    {
     "name": "stdout",
     "output_type": "stream",
     "text": [
      "* \n",
      "* * \n",
      "* * * \n",
      "* * * * \n",
      "* * * * * \n"
     ]
    }
   ],
   "source": [
    "i = 1\n",
    "while(i<=5):\n",
    "    print(\"* \" * i)\n",
    "    i = i + 1"
   ]
  },
  {
   "cell_type": "code",
   "execution_count": 15,
   "id": "af41aedc",
   "metadata": {},
   "outputs": [
    {
     "name": "stdout",
     "output_type": "stream",
     "text": [
      "* * * * * \n",
      "* * * * \n",
      "* * * \n",
      "* * \n",
      "* \n"
     ]
    }
   ],
   "source": [
    "i = 5\n",
    "while(i > 0):\n",
    "    print(\"* \" * i)\n",
    "    i = i - 1"
   ]
  },
  {
   "cell_type": "markdown",
   "id": "ff369b0e",
   "metadata": {},
   "source": [
    "### Break,continue and pass"
   ]
  },
  {
   "cell_type": "code",
   "execution_count": 16,
   "id": "c1ca749d",
   "metadata": {},
   "outputs": [
    {
     "name": "stdout",
     "output_type": "stream",
     "text": [
      "1\n",
      "2\n"
     ]
    }
   ],
   "source": [
    "for i in range(1,5):\n",
    "    if i == 3:\n",
    "        break\n",
    "    print(i)"
   ]
  },
  {
   "cell_type": "code",
   "execution_count": 17,
   "id": "6f9fd547",
   "metadata": {},
   "outputs": [
    {
     "name": "stdout",
     "output_type": "stream",
     "text": [
      "1\n",
      "2\n",
      "4\n"
     ]
    }
   ],
   "source": [
    "for i in range(1,5):\n",
    "    if i == 3:\n",
    "        continue\n",
    "    print(i)"
   ]
  },
  {
   "cell_type": "code",
   "execution_count": 19,
   "id": "10ed3265",
   "metadata": {},
   "outputs": [
    {
     "name": "stdout",
     "output_type": "stream",
     "text": [
      "hello\n"
     ]
    }
   ],
   "source": [
    "if(10 > 5):\n",
    "    pass\n",
    "print(\"hello\")"
   ]
  },
  {
   "cell_type": "code",
   "execution_count": 27,
   "id": "c27a71bf",
   "metadata": {},
   "outputs": [
    {
     "name": "stdout",
     "output_type": "stream",
     "text": [
      "enter a number = 1\n",
      "enter a number = 50\n",
      "2\n",
      "3\n",
      "5\n",
      "7\n",
      "11\n",
      "13\n",
      "17\n",
      "19\n",
      "23\n",
      "29\n",
      "31\n",
      "37\n",
      "41\n",
      "43\n",
      "47\n"
     ]
    }
   ],
   "source": [
    "x = int(input(\"enter a number = \"))\n",
    "y = int(input(\"enter a number = \"))\n",
    "for i in range(x,y+1):\n",
    "    if i > 1:\n",
    "        for j in range(2,i):\n",
    "            if (i%j == 0):\n",
    "                break\n",
    "        else:\n",
    "            print(i)"
   ]
  },
  {
   "cell_type": "code",
   "execution_count": 5,
   "id": "ddb87a16",
   "metadata": {},
   "outputs": [
    {
     "name": "stdout",
     "output_type": "stream",
     "text": [
      "    *\n",
      "   **\n",
      "  ***\n",
      " ****\n",
      "*****\n"
     ]
    }
   ],
   "source": [
    "i = 1\n",
    "while(i <= 5):\n",
    "    print(\" \"*(5-i)+ \"*\" * i)\n",
    "    i = i + 1"
   ]
  },
  {
   "cell_type": "code",
   "execution_count": 6,
   "id": "c82f4e24",
   "metadata": {},
   "outputs": [
    {
     "name": "stdout",
     "output_type": "stream",
     "text": [
      "    * \n",
      "   * * \n",
      "  * * * \n",
      " * * * * \n",
      "* * * * * \n"
     ]
    }
   ],
   "source": [
    "i = 1\n",
    "while(i <= 5):\n",
    "    print(\" \"*(5-i)+ \"* \" * i)\n",
    "    i = i + 1"
   ]
  },
  {
   "cell_type": "code",
   "execution_count": 7,
   "id": "ce5fcf70",
   "metadata": {},
   "outputs": [
    {
     "name": "stdout",
     "output_type": "stream",
     "text": [
      "enter a number = 566534\n",
      "435665\n"
     ]
    }
   ],
   "source": [
    "x = int(input(\"enter a number = \"))\n",
    "\n",
    "y =  str(x)\n",
    "x = int(y[: : -1])\n",
    "print(x)"
   ]
  },
  {
   "cell_type": "code",
   "execution_count": 8,
   "id": "02748392",
   "metadata": {},
   "outputs": [
    {
     "name": "stdout",
     "output_type": "stream",
     "text": [
      "1\n",
      "2\n",
      "3\n",
      "5\n",
      "7\n",
      "11\n",
      "13\n",
      "17\n",
      "19\n",
      "23\n",
      "29\n",
      "31\n",
      "37\n",
      "41\n",
      "43\n",
      "47\n"
     ]
    }
   ],
   "source": [
    "c = 0\n",
    "for i in range(1,50):\n",
    "    for j in range(2,i):\n",
    "        if (i%j == 0):\n",
    "            c = c + 1\n",
    "            break;\n",
    "    else:\n",
    "        c =c + 1\n",
    "        print(c)\n",
    "        "
   ]
  },
  {
   "cell_type": "code",
   "execution_count": null,
   "id": "93f8c717",
   "metadata": {},
   "outputs": [],
   "source": []
  }
 ],
 "metadata": {
  "kernelspec": {
   "display_name": "Python 3 (ipykernel)",
   "language": "python",
   "name": "python3"
  },
  "language_info": {
   "codemirror_mode": {
    "name": "ipython",
    "version": 3
   },
   "file_extension": ".py",
   "mimetype": "text/x-python",
   "name": "python",
   "nbconvert_exporter": "python",
   "pygments_lexer": "ipython3",
   "version": "3.10.9"
  }
 },
 "nbformat": 4,
 "nbformat_minor": 5
}
